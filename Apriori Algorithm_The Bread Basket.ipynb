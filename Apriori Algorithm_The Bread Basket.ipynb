{
 "cells": [
  {
   "cell_type": "code",
   "execution_count": null,
   "metadata": {},
   "outputs": [],
   "source": [
    "# https://www.kaggle.com/nandinibagga/apriori-algorithm"
   ]
  },
  {
   "cell_type": "code",
   "execution_count": 1,
   "metadata": {},
   "outputs": [],
   "source": [
    "import pandas as pd\n",
    "import matplotlib.pyplot as plt\n",
    "import numpy as np\n",
    "\n",
    "import seaborn as sns"
   ]
  },
  {
   "cell_type": "code",
   "execution_count": 2,
   "metadata": {},
   "outputs": [],
   "source": [
    "df = pd.read_csv('http://math.montana.edu/ahoegh/teaching/timeseries/data/BreadBasket.csv')"
   ]
  },
  {
   "cell_type": "code",
   "execution_count": 4,
   "metadata": {},
   "outputs": [
    {
     "data": {
      "text/html": [
       "<div>\n",
       "<style scoped>\n",
       "    .dataframe tbody tr th:only-of-type {\n",
       "        vertical-align: middle;\n",
       "    }\n",
       "\n",
       "    .dataframe tbody tr th {\n",
       "        vertical-align: top;\n",
       "    }\n",
       "\n",
       "    .dataframe thead th {\n",
       "        text-align: right;\n",
       "    }\n",
       "</style>\n",
       "<table border=\"1\" class=\"dataframe\">\n",
       "  <thead>\n",
       "    <tr style=\"text-align: right;\">\n",
       "      <th></th>\n",
       "      <th>Date</th>\n",
       "      <th>Time</th>\n",
       "      <th>Transaction</th>\n",
       "      <th>Item</th>\n",
       "    </tr>\n",
       "  </thead>\n",
       "  <tbody>\n",
       "    <tr>\n",
       "      <th>0</th>\n",
       "      <td>2016-10-30</td>\n",
       "      <td>09:58:11</td>\n",
       "      <td>1</td>\n",
       "      <td>Bread</td>\n",
       "    </tr>\n",
       "    <tr>\n",
       "      <th>1</th>\n",
       "      <td>2016-10-30</td>\n",
       "      <td>10:05:34</td>\n",
       "      <td>2</td>\n",
       "      <td>Scandinavian</td>\n",
       "    </tr>\n",
       "    <tr>\n",
       "      <th>2</th>\n",
       "      <td>2016-10-30</td>\n",
       "      <td>10:05:34</td>\n",
       "      <td>2</td>\n",
       "      <td>Scandinavian</td>\n",
       "    </tr>\n",
       "    <tr>\n",
       "      <th>3</th>\n",
       "      <td>2016-10-30</td>\n",
       "      <td>10:07:57</td>\n",
       "      <td>3</td>\n",
       "      <td>Hot chocolate</td>\n",
       "    </tr>\n",
       "    <tr>\n",
       "      <th>4</th>\n",
       "      <td>2016-10-30</td>\n",
       "      <td>10:07:57</td>\n",
       "      <td>3</td>\n",
       "      <td>Jam</td>\n",
       "    </tr>\n",
       "  </tbody>\n",
       "</table>\n",
       "</div>"
      ],
      "text/plain": [
       "         Date      Time  Transaction           Item\n",
       "0  2016-10-30  09:58:11            1          Bread\n",
       "1  2016-10-30  10:05:34            2   Scandinavian\n",
       "2  2016-10-30  10:05:34            2   Scandinavian\n",
       "3  2016-10-30  10:07:57            3  Hot chocolate\n",
       "4  2016-10-30  10:07:57            3            Jam"
      ]
     },
     "execution_count": 4,
     "metadata": {},
     "output_type": "execute_result"
    }
   ],
   "source": [
    "df.head()"
   ]
  },
  {
   "cell_type": "code",
   "execution_count": 6,
   "metadata": {},
   "outputs": [
    {
     "name": "stdout",
     "output_type": "stream",
     "text": [
      "<class 'pandas.core.frame.DataFrame'>\n",
      "RangeIndex: 21293 entries, 0 to 21292\n",
      "Data columns (total 4 columns):\n",
      " #   Column       Non-Null Count  Dtype \n",
      "---  ------       --------------  ----- \n",
      " 0   Date         21293 non-null  object\n",
      " 1   Time         21293 non-null  object\n",
      " 2   Transaction  21293 non-null  int64 \n",
      " 3   Item         21293 non-null  object\n",
      "dtypes: int64(1), object(3)\n",
      "memory usage: 665.5+ KB\n"
     ]
    }
   ],
   "source": [
    "df.info()"
   ]
  },
  {
   "cell_type": "code",
   "execution_count": 7,
   "metadata": {},
   "outputs": [
    {
     "data": {
      "text/html": [
       "<div>\n",
       "<style scoped>\n",
       "    .dataframe tbody tr th:only-of-type {\n",
       "        vertical-align: middle;\n",
       "    }\n",
       "\n",
       "    .dataframe tbody tr th {\n",
       "        vertical-align: top;\n",
       "    }\n",
       "\n",
       "    .dataframe thead th {\n",
       "        text-align: right;\n",
       "    }\n",
       "</style>\n",
       "<table border=\"1\" class=\"dataframe\">\n",
       "  <thead>\n",
       "    <tr style=\"text-align: right;\">\n",
       "      <th></th>\n",
       "      <th>Transaction</th>\n",
       "    </tr>\n",
       "  </thead>\n",
       "  <tbody>\n",
       "    <tr>\n",
       "      <th>count</th>\n",
       "      <td>21293.000000</td>\n",
       "    </tr>\n",
       "    <tr>\n",
       "      <th>mean</th>\n",
       "      <td>4951.990889</td>\n",
       "    </tr>\n",
       "    <tr>\n",
       "      <th>std</th>\n",
       "      <td>2787.758400</td>\n",
       "    </tr>\n",
       "    <tr>\n",
       "      <th>min</th>\n",
       "      <td>1.000000</td>\n",
       "    </tr>\n",
       "    <tr>\n",
       "      <th>25%</th>\n",
       "      <td>2548.000000</td>\n",
       "    </tr>\n",
       "    <tr>\n",
       "      <th>50%</th>\n",
       "      <td>5067.000000</td>\n",
       "    </tr>\n",
       "    <tr>\n",
       "      <th>75%</th>\n",
       "      <td>7329.000000</td>\n",
       "    </tr>\n",
       "    <tr>\n",
       "      <th>max</th>\n",
       "      <td>9684.000000</td>\n",
       "    </tr>\n",
       "  </tbody>\n",
       "</table>\n",
       "</div>"
      ],
      "text/plain": [
       "        Transaction\n",
       "count  21293.000000\n",
       "mean    4951.990889\n",
       "std     2787.758400\n",
       "min        1.000000\n",
       "25%     2548.000000\n",
       "50%     5067.000000\n",
       "75%     7329.000000\n",
       "max     9684.000000"
      ]
     },
     "execution_count": 7,
     "metadata": {},
     "output_type": "execute_result"
    }
   ],
   "source": [
    "df.describe()"
   ]
  },
  {
   "cell_type": "code",
   "execution_count": 11,
   "metadata": {},
   "outputs": [
    {
     "data": {
      "text/plain": [
       "0       2016-10-30\n",
       "1       2016-10-30\n",
       "2       2016-10-30\n",
       "3       2016-10-30\n",
       "4       2016-10-30\n",
       "           ...    \n",
       "21288   2017-04-09\n",
       "21289   2017-04-09\n",
       "21290   2017-04-09\n",
       "21291   2017-04-09\n",
       "21292   2017-04-09\n",
       "Name: Date, Length: 21293, dtype: datetime64[ns]"
      ]
     },
     "execution_count": 11,
     "metadata": {},
     "output_type": "execute_result"
    }
   ],
   "source": [
    "# Converting the 'date_time' column into the right format\n",
    "df['Date'] = pd.to_datetime(df['Date'])\n",
    "df.Date"
   ]
  },
  {
   "cell_type": "code",
   "execution_count": 12,
   "metadata": {},
   "outputs": [
    {
     "data": {
      "text/plain": [
       "9531"
      ]
     },
     "execution_count": 12,
     "metadata": {},
     "output_type": "execute_result"
    }
   ],
   "source": [
    "# Count of unique customers\n",
    "df['Transaction'].nunique()"
   ]
  },
  {
   "cell_type": "code",
   "execution_count": null,
   "metadata": {},
   "outputs": [],
   "source": [
    "# Extracting date\n",
    "df['date'] = df['date_time'].dt.date\n",
    "\n",
    "#Extracting time\n",
    "df['time'] = df['date_time'].dt.time\n",
    "\n",
    "# Extracting month and replacing it with text\n",
    "df['month'] = df['date_time'].dt.month\n",
    "df['month'] = df['month'].replace((1,2,3,4,5,6,7,8,9,10,11,12), \n",
    "                                          ('January','February','March','April','May','June','July','August',\n",
    "                                          'September','October','November','December'))\n",
    "\n",
    "# Extracting hour\n",
    "df['hour'] = df['date_time'].dt.hour\n",
    "# Replacing hours with text\n",
    "hour_in_num = (1,7,8,9,10,11,12,13,14,15,16,17,18,19,20,21,22,23)\n",
    "hour_in_obj = ('1-2','7-8','8-9','9-10','10-11','11-12','12-13','13-14','14-15',\n",
    "               '15-16','16-17','17-18','18-19','19-20','20-21','21-22','22-23','23-24')\n",
    "df['hour'] = df['hour'].replace(hour_in_num, hour_in_obj)\n",
    "\n",
    "# Extracting weekday and replacing it with text\n",
    "df['weekday'] = df['date_time'].dt.weekday\n",
    "df['weekday'] = df['weekday'].replace((0,1,2,3,4,5,6), \n",
    "                                          ('Monday','Tuesday','Wednesday','Thursday','Friday','Saturday','Sunday'))\n",
    "\n",
    "# dropping date_time column\n",
    "df.drop('date_time', axis = 1, inplace = True)"
   ]
  },
  {
   "cell_type": "code",
   "execution_count": null,
   "metadata": {},
   "outputs": [],
   "source": [
    "# cleaning the item column\n",
    "df['Item'] = df['Item'].str.strip()\n",
    "df['Item'] = df['Item'].str.lower()"
   ]
  },
  {
   "cell_type": "markdown",
   "metadata": {},
   "source": [
    "## Data Visulisation"
   ]
  },
  {
   "cell_type": "code",
   "execution_count": null,
   "metadata": {},
   "outputs": [],
   "source": [
    "plt.figure(figsize=(15,5))\n",
    "sns.barplot(x = df.Item.value_counts().head(20).index, y = df.Item.value_counts().head(20).values, palette = 'gnuplot')\n",
    "plt.xlabel('Items', size = 15)\n",
    "plt.xticks(rotation=45)\n",
    "plt.ylabel('Count of Items', size = 15)\n",
    "plt.title('Top 20 Items purchased by customers', color = 'green', size = 20)\n",
    "plt.show()"
   ]
  },
  {
   "cell_type": "code",
   "execution_count": null,
   "metadata": {},
   "outputs": [],
   "source": [
    "monthTran = df.groupby('month')['Transaction'].count().reset_index()\n",
    "monthTran.loc[:,\"monthorder\"] = [4,8,12,2,1,7,6,3,5,11,10,9]\n",
    "monthTran.sort_values(\"monthorder\",inplace=True)\n",
    "\n",
    "plt.figure(figsize=(12,5))\n",
    "sns.barplot(data = monthTran, x = \"month\", y = \"Transaction\")\n",
    "plt.xlabel('Months', size = 15)\n",
    "plt.ylabel('Orders per month', size = 15)\n",
    "plt.title('Number of orders received each month', color = 'green', size = 20)\n",
    "plt.show()\n",
    "\n",
    "\n",
    "plt.show()"
   ]
  },
  {
   "cell_type": "code",
   "execution_count": null,
   "metadata": {},
   "outputs": [],
   "source": [
    "weekTran = df.groupby('weekday')['Transaction'].count().reset_index()\n",
    "weekTran.loc[:,\"weekorder\"] = [4,0,5,6,3,1,2]\n",
    "weekTran.sort_values(\"weekorder\",inplace=True)\n",
    "\n",
    "plt.figure(figsize=(12,5))\n",
    "sns.barplot(data = weekTran, x = \"weekday\", y = \"Transaction\")\n",
    "plt.xlabel('Week Day', size = 15)\n",
    "plt.ylabel('Orders per day', size = 15)\n",
    "plt.title('Number of orders received each day', color = 'green', size = 20)\n",
    "plt.show()\n",
    "\n",
    "\n",
    "plt.show()\n"
   ]
  },
  {
   "cell_type": "code",
   "execution_count": null,
   "metadata": {},
   "outputs": [],
   "source": [
    "hourTran = df.groupby('hour')['Transaction'].count().reset_index()\n",
    "hourTran.loc[:,\"hourorder\"] = [1,10,11,12,13,14,15,16,17,18,19,20,21,22,23,7,8,9]\n",
    "hourTran.sort_values(\"hourorder\",inplace=True)\n",
    "\n",
    "plt.figure(figsize=(12,5))\n",
    "sns.barplot(data = hourTran, x = \"Transaction\", y = \"hour\")\n",
    "plt.ylabel('Hours', size = 15)\n",
    "plt.xlabel('Orders each hour', size = 15)\n",
    "plt.title('Count of orders received each hour', color = 'green', size = 20)\n",
    "plt.show()"
   ]
  },
  {
   "cell_type": "markdown",
   "metadata": {},
   "source": [
    "People order more during the afternoon, since there are a lot of maximum order percentage between 12-5."
   ]
  },
  {
   "cell_type": "code",
   "execution_count": null,
   "metadata": {},
   "outputs": [],
   "source": [
    "dayTran = df.groupby('period_day')['Transaction'].count().reset_index()\n",
    "# dayTran.loc[:,\"hourorder\"] = [1,10,11,12,13,14,15,16,17,18,19,20,21,22,23,7,8,9]\n",
    "# dayTran.sort_values(\"hourorder\",inplace=True)\n",
    "\n",
    "plt.figure(figsize=(12,5))\n",
    "sns.barplot(data = dayTran, x = \"Transaction\", y = \"period_day\")\n",
    "plt.ylabel('Period', size = 15)\n",
    "plt.xlabel('Orders each period of a day', size = 15)\n",
    "plt.title('Count of orders received each period of a day', color = 'green', size = 20)\n",
    "plt.show()"
   ]
  },
  {
   "cell_type": "markdown",
   "metadata": {},
   "source": [
    "People prefer to order in the morning and afternoon."
   ]
  },
  {
   "cell_type": "code",
   "execution_count": null,
   "metadata": {},
   "outputs": [],
   "source": [
    "dates = df.groupby('date')['Transaction'].count().reset_index()\n",
    "dates = dates[dates['Transaction']>=200].sort_values('date').reset_index(drop = True)\n",
    "\n",
    "dates = pd.merge(dates, df[['date','weekday']], on = 'date', how = 'inner')\n",
    "dates.drop_duplicates(inplace =True)\n",
    "dates"
   ]
  },
  {
   "cell_type": "markdown",
   "metadata": {},
   "source": [
    "Mostly transactions are on weekends, as we saw earlier in our graph."
   ]
  },
  {
   "cell_type": "code",
   "execution_count": null,
   "metadata": {},
   "outputs": [],
   "source": [
    "data = df.groupby(['period_day','Item'])['Transaction'].count().reset_index().sort_values(['period_day','Transaction'],ascending=False)\n",
    "day = ['morning','afternoon','evening','night']\n",
    "\n",
    "plt.figure(figsize=(15,8))\n",
    "for i,j in enumerate(day):\n",
    "    plt.subplot(2,2,i+1)\n",
    "    df1 = data[data.period_day==j].head(10)\n",
    "    sns.barplot(data=df1, y=df1.Item, x=df1.Transaction, color='pink')\n",
    "    plt.xlabel('')\n",
    "    plt.ylabel('')\n",
    "    plt.title('Top 10 items people like to order in \"{}\"'.format(j), size=13)\n",
    "\n",
    "plt.show()"
   ]
  },
  {
   "cell_type": "markdown",
   "metadata": {},
   "source": [
    "# Apriori Algorithm"
   ]
  },
  {
   "cell_type": "markdown",
   "metadata": {},
   "source": [
    "from mlxtend.frequent_patterns import association_rules, apriori"
   ]
  },
  {
   "cell_type": "code",
   "execution_count": null,
   "metadata": {},
   "outputs": [],
   "source": [
    "transactions_str = df.groupby(['Transaction', 'Item'])['Item'].count().reset_index(name ='Count')\n",
    "transactions_str"
   ]
  },
  {
   "cell_type": "code",
   "execution_count": null,
   "metadata": {},
   "outputs": [],
   "source": [
    "# making a mxn matrice where m=transaction and n=items and each row represents whether the item was in the transaction or not\n",
    "my_basket = transactions_str.pivot_table(index='Transaction', columns='Item', values='Count', aggfunc='sum').fillna(0)\n",
    "\n",
    "\n",
    "my_basket.head()"
   ]
  },
  {
   "cell_type": "code",
   "execution_count": null,
   "metadata": {},
   "outputs": [],
   "source": [
    "# making a function which returns 0 or 1\n",
    "# 0 means item was not in that transaction, 1 means item present in that transaction\n",
    "\n",
    "def encode(x):\n",
    "    if x<=0:\n",
    "        return 0\n",
    "    if x>=1:\n",
    "        return 1\n",
    "\n",
    "# applying the function to the dataset\n",
    "\n",
    "my_basket_sets = my_basket.applymap(encode)\n",
    "my_basket_sets.head()"
   ]
  },
  {
   "cell_type": "code",
   "execution_count": null,
   "metadata": {},
   "outputs": [],
   "source": [
    "# using the 'apriori algorithm' with min_support=0.01 (1% of 9465)\n",
    "# It means the item should be present in atleast 94 transaction out of 9465 transactions only when we considered that item in\n",
    "# frequent itemset\n",
    "frequent_items = apriori(my_basket_sets, min_support = 0.01,use_colnames = True)\n",
    "frequent_items"
   ]
  },
  {
   "cell_type": "code",
   "execution_count": null,
   "metadata": {},
   "outputs": [],
   "source": [
    "# now making the rules from frequent itemset generated above\n",
    "\n",
    "rules = association_rules(frequent_items, metric = \"lift\", min_threshold = 1)\n",
    "rules.sort_values('confidence', ascending = False, inplace = True)\n",
    "rules"
   ]
  },
  {
   "cell_type": "code",
   "execution_count": null,
   "metadata": {},
   "outputs": [],
   "source": [
    "# arranging the data from highest to lowest with respect to 'confidence'\n",
    "\n",
    "rules.sort_values('confidence', ascending=False)"
   ]
  }
 ],
 "metadata": {
  "kernelspec": {
   "display_name": "Python 3",
   "language": "python",
   "name": "python3"
  },
  "language_info": {
   "codemirror_mode": {
    "name": "ipython",
    "version": 3
   },
   "file_extension": ".py",
   "mimetype": "text/x-python",
   "name": "python",
   "nbconvert_exporter": "python",
   "pygments_lexer": "ipython3",
   "version": "3.8.5"
  }
 },
 "nbformat": 4,
 "nbformat_minor": 4
}
