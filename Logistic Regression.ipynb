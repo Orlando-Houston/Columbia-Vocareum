{
 "cells": [
  {
   "cell_type": "markdown",
   "metadata": {},
   "source": [
    "Author: Khal Makhoul, W.P.G.Peterson\n",
    "\n",
    "Revised: Jessica Cervi\n",
    "\n",
    "Expected time = 2.5 hours\n",
    "\n",
    "Total points = 80 points\n",
    "\n",
    "Assignment Overview\n",
    "Logistic regression offers a way to create a fairly interpretable parametric model for binary classification. This assignment will work through the definition of a logistic regression function in Python. After summarizing the equations and a brief EDA of the 'Titanic' data that we will be using, you will be asked to define many functions that will create a logistic regression.\n",
    "A demonstration of sklearn's implementation of Logistic Regression will close the assignment.\n",
    "\n",
    "You will be asked to code functions to do the following:\n",
    "\n",
    "Implement the Logistic Regression Algorithm\n",
    "Calculate the value of the sigmoid function\n",
    "Calculate the gradient of the log-likelihood with respect to  w \n",
    "Sum the gradients of the log-likelihood with respect to  w \n",
    "Execute logistic regression, stopping after a particular iteration\n",
    "Determine convergence of the logistic regression algorithm\n",
    "This assignment is designed to build your familiarity and comfort in coding in Python. It will also help you review the key topics from each module. As you progress through the assignment, answers to the questions will get increasingly complex. You must adopt a data scientist's mindset when completing this assignment. Remember to run your code from each cell before submitting your assignment. Running your code beforehand will notify you of errors and giving you a chance to fix your errors before submitting. You should view your Vocareum submission as if you are delivering a final project to your manager or client.\n",
    "\n",
    "Vocareum Tips\n",
    "\n",
    "Do not add arguments or options to functions unless asked specifically. This will cause an error in Vocareum.\n",
    "Do not use a library unless you are explicitly asked in the question.\n",
    "You can download the Grading Report after submitting the assignment. It will include the feedback and hints on incorrect questions.\n",
    "Learning Objectives\n",
    "Count the null values\n",
    "Examine the auto coorrelation features\n",
    "Ensure the correct orientation of the feature matrix\n",
    "Implement the logistic function\n",
    "Update the coefficient/weights using the gradient descent\n",
    "Examine the predicted probabilities using the logistic regression\n",
    "Implement the logistic regression with sklearn"
   ]
  },
  {
   "cell_type": "markdown",
   "metadata": {},
   "source": [
    "Problem: Using Logistic Regression, predict whether or not a passenger survived the sinking of the Titanic.\n",
    "\n",
    "Data: Today's data comes from Kaggle's Titanic Data. Please see the above link for the complete description of the data.\n",
    "\n",
    "Logistic Regression\n",
    "In this week's lectures, we derived all the equations that we will use in this assignment.\n",
    "\n",
    "Recall that the likelihood for Logistic Regression is given by:\n",
    "\n",
    "p(y1, ..., yn | x1, ..., xn, w) =∏i=1n σi(yi⋅w)\n",
    " \n",
    "For coding purposes, we need the expression for the gradient of the log-likelihood  L  with respect to  w :\n",
    "\n",
    "∇wL=∑i=1n(1−σi(yi⋅w)) yixi\n",
    " \n",
    "Where:\n",
    "σi(yi⋅w)=eyiXTiw1+eyixTiw\n",
    " \n",
    "The steps for implementing the logistic regression is explained at the beginning of each of the following questions.\n",
    "\n",
    "Importing the dataset and exploratory data analysis\n",
    "This assignment will analyze data from Titanic passenger manifest. Our goal will be to analyze the demographic and trip information for each passenger to understand whether they have survived or not the disaster.\n",
    "\n",
    "We start by examining the data as usual: Before coding an algorithm, we will take a look at our data using Python's pandas. For visualizations, we will use matplotlib.\n",
    "\n",
    "To import the necessary libraries and load the datasets, we will be using the pandas' 'pd.read_csv()' function."
   ]
  },
  {
   "cell_type": "code",
   "execution_count": null,
   "metadata": {},
   "outputs": [],
   "source": [
    "# Import the necessary modules\n",
    "\n",
    "%matplotlib inline\n",
    "import pandas as pd\n",
    "import matplotlib.pyplot as plt\n",
    "import numpy as np\n",
    "plt.rcParams['figure.figsize'] = (20.0, 10.0)\n",
    "\n",
    "# Load the data into a `pandas` DataFrame object\n",
    "titanic_df = pd.read_csv('./data/train.csv')"
   ]
  },
  {
   "cell_type": "code",
   "execution_count": null,
   "metadata": {},
   "outputs": [],
   "source": []
  },
  {
   "cell_type": "code",
   "execution_count": null,
   "metadata": {},
   "outputs": [],
   "source": []
  },
  {
   "cell_type": "code",
   "execution_count": null,
   "metadata": {},
   "outputs": [],
   "source": []
  }
 ],
 "metadata": {
  "kernelspec": {
   "display_name": "Python 3",
   "language": "python",
   "name": "python3"
  },
  "language_info": {
   "codemirror_mode": {
    "name": "ipython",
    "version": 3
   },
   "file_extension": ".py",
   "mimetype": "text/x-python",
   "name": "python",
   "nbconvert_exporter": "python",
   "pygments_lexer": "ipython3",
   "version": "3.8.5"
  }
 },
 "nbformat": 4,
 "nbformat_minor": 4
}
