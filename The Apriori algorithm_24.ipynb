{
 "cells": [
  {
   "cell_type": "markdown",
   "metadata": {},
   "source": [
    "## Using the famous Apriori algorithm in Python to do frequent itemset mining for basket analysis"
   ]
  },
  {
   "cell_type": "code",
   "execution_count": 1,
   "metadata": {},
   "outputs": [],
   "source": [
    "# store the item sets as tuples of strings in a list\n",
    "transactions = [\n",
    "    (\"beer\", \"wine\", \"cheese\"),\n",
    "    (\"beer\", \"potato chips\"),\n",
    "    (\"eggs\", \"flour\", \"butter\", \"cheese\"),\n",
    "    (\"eggs\", \"flour\", \"butter\", \"beer\", \"potato chips\"),\n",
    "    (\"wine\", \"cheese\"),\n",
    "    (\"potato chips\"),\n",
    "    (\"eggs\", \"flour\", \"butter\", \"wine\", \"cheese\"),\n",
    "    (\"eggs\", \"flour\", \"butter\", \"beer\", \"potato chips\"),\n",
    "    (\"wine\", \"beer\"),\n",
    "    (\"beer\", \"potato chips\"),\n",
    "    (\"butter\", \"eggs\"),\n",
    "    (\"beer\", \"potato chips\"),\n",
    "    (\"flour\", \"eggs\"),\n",
    "    (\"beer\", \"potato chips\"),\n",
    "    (\"eggs\", \"flour\", \"butter\", \"wine\", \"cheese\"),\n",
    "    (\"beer\", \"wine\", \"potato chips\", \"cheese\"),\n",
    "    (\"wine\", \"cheese\"),\n",
    "    (\"beer\", \"potato chips\"),\n",
    "    (\"wine\", \"cheese\"),\n",
    "    (\"beer\", \"potato chips\"),\n",
    "]"
   ]
  },
  {
   "cell_type": "code",
   "execution_count": 5,
   "metadata": {},
   "outputs": [
    {
     "name": "stdout",
     "output_type": "stream",
     "text": [
      "Requirement already satisfied: efficient-apriori in c:\\anaconda\\lib\\site-packages (2.0.1)\n",
      "Note: you may need to restart the kernel to use updated packages.\n"
     ]
    }
   ],
   "source": [
    "pip install efficient-apriori"
   ]
  },
  {
   "cell_type": "code",
   "execution_count": 6,
   "metadata": {},
   "outputs": [],
   "source": [
    "import efficient_apriori"
   ]
  },
  {
   "cell_type": "code",
   "execution_count": 7,
   "metadata": {},
   "outputs": [],
   "source": [
    "from efficient_apriori import apriori\n",
    "\n",
    "# our min support is 7, but it has to be expressed as a percentage for efficient-apriori\n",
    "min_support = 7/len(transactions) \n",
    "\n",
    "# min confidence allows you to delete rules with low confidence.\n",
    "# For now set min_confidence = 0 to obtain all the rules\n",
    "min_confidence = 0\n",
    "itemsets, rules = apriori(transactions, min_support=min_support, min_confidence=min_confidence)"
   ]
  },
  {
   "cell_type": "code",
   "execution_count": 8,
   "metadata": {},
   "outputs": [
    {
     "name": "stdout",
     "output_type": "stream",
     "text": [
      "{1: {('beer',): 11, ('wine',): 8, ('cheese',): 8, ('potato chips',): 9, ('eggs',): 7}, 2: {('beer', 'potato chips'): 9, ('cheese', 'wine'): 7}}\n"
     ]
    }
   ],
   "source": [
    "print(itemsets)"
   ]
  },
  {
   "cell_type": "code",
   "execution_count": 9,
   "metadata": {},
   "outputs": [
    {
     "name": "stdout",
     "output_type": "stream",
     "text": [
      "{potato chips} -> {beer} (conf: 1.000, supp: 0.450, lift: 1.818, conv: 450000000.000)\n",
      "{beer} -> {potato chips} (conf: 0.818, supp: 0.450, lift: 1.818, conv: 3.025)\n",
      "{wine} -> {cheese} (conf: 0.875, supp: 0.350, lift: 2.188, conv: 4.800)\n",
      "{cheese} -> {wine} (conf: 0.875, supp: 0.350, lift: 2.188, conv: 4.800)\n"
     ]
    }
   ],
   "source": [
    "for rule in rules:\n",
    "  print(rule)"
   ]
  },
  {
   "cell_type": "code",
   "execution_count": null,
   "metadata": {},
   "outputs": [],
   "source": []
  }
 ],
 "metadata": {
  "kernelspec": {
   "display_name": "Python 3",
   "language": "python",
   "name": "python3"
  },
  "language_info": {
   "codemirror_mode": {
    "name": "ipython",
    "version": 3
   },
   "file_extension": ".py",
   "mimetype": "text/x-python",
   "name": "python",
   "nbconvert_exporter": "python",
   "pygments_lexer": "ipython3",
   "version": "3.8.5"
  }
 },
 "nbformat": 4,
 "nbformat_minor": 4
}
