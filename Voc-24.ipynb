{
 "cells": [
  {
   "cell_type": "code",
   "execution_count": null,
   "metadata": {},
   "outputs": [],
   "source": [
    "# Import libraries\n",
    "import numpy as np\n",
    "import pandas as pd\n",
    "from collections import namedtuple\n",
    "from itertools import permutations, chain, product\n",
    "from sklearn.cluster import KMeans\n",
    "from inspect import Signature, Parameter"
   ]
  },
  {
   "cell_type": "markdown",
   "metadata": {},
   "source": [
    "* Below we read the data using the Pandas' function 'read_csv'. Also, we rename the columns in each dataset for convenience"
   ]
  },
  {
   "cell_type": "code",
   "execution_count": null,
   "metadata": {},
   "outputs": [],
   "source": [
    "corn13_17 = pd.read_csv('./data/corn2013-2017.txt', names = (\"week\",\"price\") )"
   ]
  },
  {
   "cell_type": "code",
   "execution_count": null,
   "metadata": {},
   "outputs": [],
   "source": [
    "corn13_17.head()"
   ]
  },
  {
   "cell_type": "code",
   "execution_count": null,
   "metadata": {},
   "outputs": [],
   "source": [
    "corn13_17.info()"
   ]
  },
  {
   "cell_type": "markdown",
   "metadata": {},
   "source": [
    "* From the output above, the data appear to be complete.\n",
    "* Preprocess: Discretization\n",
    "* As mentioned in the lectures, there are two types of HMM:\n",
    "1. Discrete HMM\n",
    "1. Continuous HMM\n",
    "* The typical structure of HMM involves a discrete number of latent (\"hidden\") states that are unobserved. The observations,\n",
    "* which in our case are corn prices, are generated from a state dependent \"emissions\" (or \"observations\") distribution.\n",
    "* In the discrete HMM, the emissions are discrete values. Conversely, in the continuous HMM, the emissions are continuous. In\n",
    "* the latter, the distribution that generates the emissions is usually assumed to be Gaussian."
   ]
  },
  {
   "cell_type": "markdown",
   "metadata": {},
   "source": [
    "* Question 01\n",
    "\n",
    "* Decide wheter the following statement is true or false.\n",
    "* The number of discrete states is a hyperparameter of HMM.\n",
    "* Assign a boolean value to the variable ans1."
   ]
  },
  {
   "cell_type": "code",
   "execution_count": null,
   "metadata": {},
   "outputs": [],
   "source": [
    "### GRADED\n",
    "### YOUR SOLUTION HERE\n",
    "ans1 = True\n",
    "### END SOLUTION"
   ]
  },
  {
   "cell_type": "markdown",
   "metadata": {},
   "source": [
    "* In order to simplify the problem, in come cases, it is advisable to use clustering in order to discretize the continuous HMM\n",
    "* emissions.\n",
    "* We will see how to do this in the next section."
   ]
  },
  {
   "cell_type": "markdown",
   "metadata": {},
   "source": [
    "* Generate Clusters\n",
    "* As noted in the lectures, clustering a sequence of continuous observations is a form of data quantization. This can simplify the learning of HMM.\n",
    "* Instead of calculating A posteriori probability from a continuous emissions sequence, we can use the respective cluster label\n",
    "* as the observation. This way, the emission probability matrix can be encoded as a discrete vector of probabilities.\n",
    "\n",
    "Question 02\n",
    "\n",
    "Define a function called 'generate_cluster_assignments' that accepts the following arguments:\n",
    "A 'Pandas' series.\n",
    "The desired number of cluster.\n",
    "Your function should instantiate an 'sklearn' KMeans class using the specified number of clusters and random_state equals to\n",
    "24. Next, your function should transform the series to a dataframe. Finally, your function should return a 'Pandas' series of\n",
    "cluster labels for each observation in the sequence.\n",
    "Hint: That KMeans object has the '.fit()' and '.predict()' methods to create the cluster labels.\n",
    "For example, if we set\n",
    "* data_series =\n",
    "* pd.Series([1,2,3,2,1,2,3,2,1,2,3,2,1,2,3,2,1,6,7,8,7,6,7,8,6,7,6,7,8,7,7,8,56,57,58,59,57,58,6\n",
    "Then calling the function by using\n",
    "labels = generate_cluster_assignments(data_series, clusters = 3)\n",
    "should return\n",
    "labels = array([1, 1, 1, 1, 1, 1, 1, 1, 1, 1, 1, 1, 1, 1, 1, 1, 1, 2, 2, 2, 2, 2,2, 2, 2, 2,\n",
    "2, 2, 2, 2, 2, 2, 0, 0, 0, 0, 0, 0, 2, 2, 2, 1, 1])\n",
    "Note that the KMeans object can be instantiated via the following command:\n",
    "'clusterer = KMeans(args)'\n",
    "Moreover, your particular labels might not match exactly, but the clusters should be the same."
   ]
  },
  {
   "cell_type": "code",
   "execution_count": null,
   "metadata": {},
   "outputs": [],
   "source": [
    "\n",
    "np.random.seed(24)\n",
    "data_series = np.random.uniform(1,40, size=30)\n",
    "def generate_cluster_assignments(series, clusters = 3):\n",
    "cluster = KMeans(n_clusters = clusters, random_state=24)\n",
    "df = pd.DataFrame(series)\n",
    "cluster.fit(df)\n",
    "return cluster.predict(df)\n"
   ]
  },
  {
   "cell_type": "markdown",
   "metadata": {},
   "source": [
    "* Part 2: Components of a Hidden Markov Model\n",
    "* HMM Parameters\n",
    "A HMM consists of 5 components:\n",
    "N -- The number of hidden states: This is a discrete integer that the practitioner provides. It is the number of\n",
    "assumed hidden states.\n",
    "A -- State transition matrix: With N=2, A may look like:\n",
    "The second row of A shows the probability of transitioning from state 1 --> (state 1=0.7, state 2=0.3). The third row of A shows\n",
    "the probability of transitioning from state 2 --> (state 1=0.6, state 2=0.4).\n",
    "B -- Emission probability matrix: Setting the number of unique observation M==4, B may look like:\n",
    "The rows correspond to state 1 and state 2, respectively. The columns in B correspond to the probability of that observation,\n",
    "given the respective state. For example, the probability of observing in = .\n",
    "-- Starting likelihood (initial state probabilities). may take the following form:\n",
    "In this case, it means that the sequence of states is equally likely to start in or .\n",
    "-- Sequence of emissions or observations\n",
    "The sequence of observations, is always the known component of HMM. We can determine the type of HMM\n",
    "problem by the known components and the motivation of the problem. Next, we will discuss the types of HMM problems.\n",
    "\n",
    "* Question 03\n",
    "\n",
    "* If \"N\" is the number of states, then the shape of \"A\" (the transition matrix) will always be:\n",
    "* a) 2 x 2\n",
    "* b) N x N\n",
    "* c) N x number of unique observations\n",
    "* d) None of the above"
   ]
  },
  {
   "cell_type": "code",
   "execution_count": null,
   "metadata": {},
   "outputs": [],
   "source": [
    "ans3 = 'b'"
   ]
  },
  {
   "cell_type": "code",
   "execution_count": null,
   "metadata": {},
   "outputs": [],
   "source": []
  },
  {
   "cell_type": "code",
   "execution_count": null,
   "metadata": {},
   "outputs": [],
   "source": []
  },
  {
   "cell_type": "code",
   "execution_count": null,
   "metadata": {},
   "outputs": [],
   "source": []
  },
  {
   "cell_type": "code",
   "execution_count": null,
   "metadata": {},
   "outputs": [],
   "source": []
  },
  {
   "cell_type": "code",
   "execution_count": null,
   "metadata": {},
   "outputs": [],
   "source": []
  }
 ],
 "metadata": {
  "kernelspec": {
   "display_name": "Python 3",
   "language": "python",
   "name": "python3"
  },
  "language_info": {
   "codemirror_mode": {
    "name": "ipython",
    "version": 3
   },
   "file_extension": ".py",
   "mimetype": "text/x-python",
   "name": "python",
   "nbconvert_exporter": "python",
   "pygments_lexer": "ipython3",
   "version": "3.8.5"
  }
 },
 "nbformat": 4,
 "nbformat_minor": 4
}
