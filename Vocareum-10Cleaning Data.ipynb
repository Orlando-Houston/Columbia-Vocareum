{
 "cells": [
  {
   "cell_type": "code",
   "execution_count": null,
   "metadata": {},
   "outputs": [],
   "source": [
    "import pandas as pd\n",
    "import numpy as np\n",
    "\n",
    "df = pd.read_csv(\"grading.csv\")"
   ]
  },
  {
   "cell_type": "code",
   "execution_count": null,
   "metadata": {},
   "outputs": [],
   "source": [
    "df.head(10)\n"
   ]
  },
  {
   "cell_type": "markdown",
   "metadata": {},
   "source": [
    "Question 1\n",
    "5 points\n",
    "\n",
    "Retrieve the number of rows of the DataFrame df and assign the value as an integer to ans1."
   ]
  },
  {
   "cell_type": "code",
   "execution_count": null,
   "metadata": {},
   "outputs": [],
   "source": [
    "### GRADED\n",
    "\n",
    "### YOUR SOLUTION HERE\n",
    "ans1 = df.shape[0]\n",
    "### END SOLUTION"
   ]
  },
  {
   "cell_type": "markdown",
   "metadata": {},
   "source": [
    "Question 2\n",
    "5 points\n",
    "\n",
    "What does the attribute .columns return?\n",
    "\n",
    "a) A dictionary that has column labels as keys and the mean of each column as values.\n",
    "b) The number of columns in the DataFrame.\n",
    "c) The column labels of the DataFrame.\n",
    "d) An empty DataFrame with the column labels.\n",
    "Assign the letter corresponding to your choice as a string to ans2.\n",
    "\n"
   ]
  },
  {
   "cell_type": "code",
   "execution_count": null,
   "metadata": {},
   "outputs": [],
   "source": [
    "### GRADED\n",
    "\n",
    "### YOUR SOLUTION HERE\n",
    "ans2 = \"c\"\n",
    "### END SOLUTION"
   ]
  },
  {
   "cell_type": "markdown",
   "metadata": {},
   "source": [
    "Question 3\n",
    "5 points\n",
    "\n",
    "Use the .rename() function in pandas to rename the column Class Roll to enrollment and assign this to a new DataFrame called df3.\n",
    "\n",
    "Note: questions 3, 4, and 5 are related and need to be solved in sequence."
   ]
  },
  {
   "cell_type": "code",
   "execution_count": null,
   "metadata": {},
   "outputs": [],
   "source": [
    "### GRADED\n",
    "\n",
    "### YOUR SOLUTION HERE\n",
    "df3 = df.rename(columns={'Class Roll': 'enrollment'})\n",
    "### END SOLUTION"
   ]
  },
  {
   "cell_type": "markdown",
   "metadata": {},
   "source": [
    "Question 4\n",
    "5 points\n",
    "\n",
    "Convert the entries from df3 in the column Observation (Marks: 20) from integers to floats. Assign the result to df4.\n",
    "\n",
    "Hint: use the function .to_numeric() by setting the argument downcast = float"
   ]
  },
  {
   "cell_type": "code",
   "execution_count": null,
   "metadata": {},
   "outputs": [],
   "source": [
    "### GRADED\n",
    "\n",
    "### YOUR SOLUTION HERE\n",
    "df4 = pd.to_numeric(df3[\"Observation (Marks: 20)\"], downcast = \"float\")\n",
    "### END SOLUTION"
   ]
  },
  {
   "cell_type": "markdown",
   "metadata": {},
   "source": [
    "Question 5\n",
    "5 points\n",
    "\n",
    "What is the type of df4?\n",
    "\n",
    "a) A dictionary\n",
    "b) A pandas DataFrame\n",
    "c) A pandas series\n",
    "d) A list\n",
    "Assign the letter corresponding to your choice as a string to ans5."
   ]
  },
  {
   "cell_type": "code",
   "execution_count": null,
   "metadata": {},
   "outputs": [],
   "source": [
    "### GRADED\n",
    "\n",
    "### YOUR SOLUTION HERE\n",
    "ans5 = 'c'\n",
    "### END SOLUTION"
   ]
  },
  {
   "cell_type": "markdown",
   "metadata": {},
   "source": [
    "Module 10: Dealing with Missing or Duplicate Data\n",
    "You will often have missing or duplicate data in your dataset. It is important that you know how to work through this issue without fundamentally impacting the results of your analysis. The first sentinel value used by Pandas is None, a Python singleton object that is often used for missing data in Python code. Because it is a Python object, None cannot be used in any arbitrary NumPy/Pandas array, but only in arrays with data type object. The other missing data representation, NaN (acronym for Not a Number), is different; it is a special floating-point value recognized by all systems that use the standard IEEE floating-point representation. A complete guide about how to handle missing values values in pandas can be found here.\n",
    "\n",
    "Next, we will fill in missing values with Nan. In another column, we will drop all Nan values. We will also drop all duplicate values.\n",
    "\n"
   ]
  },
  {
   "cell_type": "markdown",
   "metadata": {},
   "source": [
    "Question 6\n",
    "5 points\n",
    "\n",
    "Fill the missing values in the column CT-2 (Marks: 20) in the DataFrame df3 with the mean of that column. Assign the result to df6."
   ]
  },
  {
   "cell_type": "code",
   "execution_count": null,
   "metadata": {},
   "outputs": [],
   "source": [
    "### GRADED\n",
    "\n",
    "### YOUR SOLUTION HERE\n",
    "df6 = df3['CT-2 (Marks: 20)'].fillna( df3['CT-2 (Marks: 20)'].mean()) \n",
    "### END SOLUTION"
   ]
  },
  {
   "cell_type": "markdown",
   "metadata": {},
   "source": [
    "Question 7\n",
    "5 points\n",
    "\n",
    "Drop all of the Nan entries in df3. Assign the result to df7."
   ]
  },
  {
   "cell_type": "code",
   "execution_count": null,
   "metadata": {},
   "outputs": [],
   "source": [
    "# GRADED\n",
    "\n",
    "### YOUR SOLUTION HERE\n",
    "df7 = df3.dropna()\n",
    "### END SOLUTION"
   ]
  },
  {
   "cell_type": "markdown",
   "metadata": {},
   "source": [
    "Question 8\n",
    "5 points\n",
    "\n",
    "Compute the mean of enrollment in the DatFrame df3. Assign the result to ans8."
   ]
  },
  {
   "cell_type": "code",
   "execution_count": null,
   "metadata": {},
   "outputs": [],
   "source": [
    "## GRADED\n",
    "\n",
    "### YOUR SOLUTION HERE\n",
    "ans8 = np.mean(df3.enrollment)\n",
    "### END SOLUTION"
   ]
  },
  {
   "cell_type": "markdown",
   "metadata": {},
   "source": [
    "Question 9\n",
    "5 points\n",
    "\n",
    "Drop all of the duplicate values in the DataFrame df3. Assign the new result to df9."
   ]
  },
  {
   "cell_type": "code",
   "execution_count": null,
   "metadata": {},
   "outputs": [],
   "source": [
    "### GRADED\n",
    "\n",
    "### YOUR SOLUTION HEREd\n",
    "df9 = df3.drop_duplicates()\n",
    "### END SOLUTION"
   ]
  },
  {
   "cell_type": "code",
   "execution_count": null,
   "metadata": {},
   "outputs": [],
   "source": []
  },
  {
   "cell_type": "code",
   "execution_count": null,
   "metadata": {},
   "outputs": [],
   "source": []
  },
  {
   "cell_type": "code",
   "execution_count": null,
   "metadata": {},
   "outputs": [],
   "source": []
  }
 ],
 "metadata": {
  "kernelspec": {
   "display_name": "Python 3",
   "language": "python",
   "name": "python3"
  },
  "language_info": {
   "codemirror_mode": {
    "name": "ipython",
    "version": 3
   },
   "file_extension": ".py",
   "mimetype": "text/x-python",
   "name": "python",
   "nbconvert_exporter": "python",
   "pygments_lexer": "ipython3",
   "version": "3.8.5"
  }
 },
 "nbformat": 4,
 "nbformat_minor": 4
}
