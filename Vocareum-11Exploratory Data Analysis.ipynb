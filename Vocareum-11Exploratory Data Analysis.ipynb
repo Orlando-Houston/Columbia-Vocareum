{
 "cells": [
  {
   "cell_type": "markdown",
   "metadata": {},
   "source": [
    "Exploratory Data Analysis\n",
    "In this assignment you will work with the pandas concepts you learned in Module 11 to examine a dataset from the travel industry and visualize relationships between variables. You will begin by familiarzing yourself with the columns of the dataset, then explore their relationships.\n",
    "\n",
    "Inspecting your Data\n",
    "The dataset that we will be using in this assignment contains booking information for a city hotel and a resort hotel, and includes information such as when the booking was made, length of stay, the number of adults, children, and/or babies, and the number of available parking spaces, among other things. More detailed information about the dataset can be found here.\n",
    "\n",
    "We will begin by importing the necessary libraries for this assignment and by reading the dataset."
   ]
  },
  {
   "cell_type": "code",
   "execution_count": null,
   "metadata": {},
   "outputs": [],
   "source": [
    "import pandas as pd\n",
    "import numpy as np\n",
    "import matplotlib.pyplot as plt\n",
    "from sklearn import datasets\n",
    "import scipy.stats as sp\n",
    "import seaborn as sns\n",
    "\n",
    "# Avoid warnings\n",
    "import warnings\n",
    "warnings.filterwarnings(\"ignore\")\n",
    "\n",
    "df = pd.read_csv(\"./data/hotel_bookings.csv\")\n"
   ]
  },
  {
   "cell_type": "markdown",
   "metadata": {},
   "source": [
    "For convenience, we will use the command .head() to visualize the first 10 rows of our DataFrame"
   ]
  },
  {
   "cell_type": "code",
   "execution_count": null,
   "metadata": {},
   "outputs": [],
   "source": [
    "df.head(10)\n"
   ]
  },
  {
   "cell_type": "code",
   "execution_count": null,
   "metadata": {},
   "outputs": [],
   "source": [
    "df.describe()\n"
   ]
  },
  {
   "cell_type": "markdown",
   "metadata": {},
   "source": [
    "Question 1\n",
    "5 points\n",
    "\n",
    "We'll begin by exploring the arrival dates, to see when people begin a trip. Use .value_counts() on the column arrival_date_year. Assign the result to ans1."
   ]
  },
  {
   "cell_type": "code",
   "execution_count": null,
   "metadata": {},
   "outputs": [],
   "source": [
    "### GRADED\n",
    "\n",
    "### YOUR SOLUTION HERE\n",
    "ans1 = df['arrival_date_year'].value_counts()\n",
    "### END SOLUTION\n"
   ]
  },
  {
   "cell_type": "markdown",
   "metadata": {},
   "source": [
    "Question 2\n",
    "5 points\n",
    "\n",
    "What data type the attribute .value_counts() return?\n",
    "\n",
    "a) A list\n",
    "b) A series\n",
    "c) A DataFrame.\n",
    "d) An object\n",
    "Assign the character corresponding to your choice as a string to ans2.\n",
    "\n"
   ]
  },
  {
   "cell_type": "code",
   "execution_count": null,
   "metadata": {},
   "outputs": [],
   "source": [
    "### GRADED\n",
    "\n",
    "### YOUR SOLUTION HERE\n",
    "ans2 = \"b\"\n",
    "### END SOLUTION\n"
   ]
  },
  {
   "cell_type": "markdown",
   "metadata": {},
   "source": [
    "Question 3\n",
    "5 points\n",
    "\n",
    "Next, we will examine the lead time. How far in advance do people book travel? We can compute this with the median of the column lead_time by ignoring the NaN values. Assign the result to ans3.\n",
    "\n"
   ]
  },
  {
   "cell_type": "code",
   "execution_count": null,
   "metadata": {},
   "outputs": [],
   "source": [
    "### GRADED\n",
    "\n",
    "### YOUR SOLUTION HERE\n",
    "ans3 = np.nanmedian(df[\"lead_time\"])\n",
    "### END SOLUTION\n"
   ]
  },
  {
   "cell_type": "markdown",
   "metadata": {},
   "source": [
    "Question 4\n",
    "10 points\n",
    "\n",
    "Now, we will create a heatmap which will help us explore relationships between the different variables, or columns, in the travel dataset. What relationships have we missed? This process will help us find out.\n",
    "\n",
    "To begin, use .figsize() to set the figure size to (15,15). Next, produce a heatmap with the correlation between the different columns of df. Specify the parameter annot= True. DO NOT specify any other parameter. Save your plot as a png with the name \"plot4.png\" in the folder \"results\"."
   ]
  },
  {
   "cell_type": "code",
   "execution_count": null,
   "metadata": {},
   "outputs": [],
   "source": [
    "### GRADED\n",
    "\n",
    "### YOUR SOLUTION HERE\n",
    "plt.figure(figsize=(15,15))\n",
    "sns.heatmap(df.corr(), annot= True)\n",
    "plt.savefig(\"results/plot4.png\")\n",
    "plt.close()\n",
    "### END SOLUTION"
   ]
  },
  {
   "cell_type": "markdown",
   "metadata": {},
   "source": [
    "Question 5\n",
    "5 points\n",
    "\n",
    "The hotel wants to know how many parking spaces to be filled with the number of adults booking rooms. We will use feature engineering to create a new measure by dividing adults by required_car_parking_spaces.\n",
    "\n",
    "Assign the result of this to a new column created in df called parking_spaces_per_adult."
   ]
  },
  {
   "cell_type": "code",
   "execution_count": null,
   "metadata": {},
   "outputs": [],
   "source": [
    "### GRADED\n",
    "\n",
    "### YOUR SOLUTION HERE\n",
    "df['parking_spaces_per_adult'] = df['adults']/df['required_car_parking_spaces']\n",
    "### END SOLUTION"
   ]
  },
  {
   "cell_type": "markdown",
   "metadata": {},
   "source": [
    "Question 6\n",
    "10 points\n",
    "\n",
    "Next, we'll examine the habits of travelers. Are people more likely to stay in on week nights or weekend nights?\n",
    "\n",
    "Produce a jointplot that compares the relationship between stays_in_week_nights and stays_in_weekend_nightsof df. DO NOT specify any parameter. Save your plot as a png with the name \"plot6.png\" in the folder \"results\"."
   ]
  },
  {
   "cell_type": "code",
   "execution_count": null,
   "metadata": {},
   "outputs": [],
   "source": [
    "### GRADED\n",
    "\n",
    "### YOUR SOLUTION HERE\n",
    "sns.jointplot(df.stays_in_week_nights,df.stays_in_weekend_nights)  \n",
    "plt.savefig(\"results/plot6.png\")\n",
    "plt.close()\n",
    "### END SOLUTION"
   ]
  },
  {
   "cell_type": "markdown",
   "metadata": {},
   "source": [
    "Question 7\n",
    "5 points\n",
    "\n",
    "Let's take a closer look at the graph you created to examine travelers who stay in on week nights versus weekend nights.\n",
    "\n",
    "From the graph produced in question 6, what can you say about the relationship between stays_in_week_nights and stays_in_weekend_nights?\n",
    "\n",
    "a) The two variables have a correlation value close to one (high correlation)\n",
    "b) The two variables are not correlated with a value close to zero\n",
    "c) The two variables have a correlation value close to -0.5\n",
    "d) None of the above\n",
    "Assign the character corresponding to your choice as a string to ans7.\n",
    "\n"
   ]
  },
  {
   "cell_type": "code",
   "execution_count": null,
   "metadata": {},
   "outputs": [],
   "source": [
    "### GRADED\n",
    "\n",
    "### YOUR SOLUTION HERE\n",
    "ans7 = \"a\"\n",
    "### END SOLUTION"
   ]
  },
  {
   "cell_type": "markdown",
   "metadata": {},
   "source": [
    "Question 8\n",
    "10 points\n",
    "\n",
    "Could the size of the group impact whether travelers are likely to stay in on weekend nights? Let's explore this.\n",
    "\n",
    "To begin, use .figsize() to set the figure size to (5,5). Next, produce a boxplot that compares the relationship between adults and stays_in_weekend_nightsof df and set the x limits equal to (-1,5). Save your plot as a png with the name \"plot8.png\" in the folder \"results\"."
   ]
  },
  {
   "cell_type": "code",
   "execution_count": null,
   "metadata": {},
   "outputs": [],
   "source": [
    "### GRADED\n",
    "\n",
    "### YOUR SOLUTION HERE\n",
    "plt.figsize=(5,5)                      \n",
    "sns.boxplot(df['adults'], df['stays_in_weekend_nights'])\n",
    "plt.xlim(-1,5)\n",
    "plt.savefig(\"results/plot8.png\")\n",
    "plt.close()\n",
    "### END SOLUTION"
   ]
  },
  {
   "cell_type": "markdown",
   "metadata": {},
   "source": [
    "Question 9\n",
    "10 points\n",
    "\n",
    "Next, we want to examine the reservation date more closely. We will split the entries of this column into three new columns to see the year, month, and day.\n",
    "\n",
    "Using the appropriate string method, split the column reservation_status_date at every occurrence of “-”. Next, add three new columns to df: year, month and day.\n",
    "\n"
   ]
  },
  {
   "cell_type": "code",
   "execution_count": null,
   "metadata": {},
   "outputs": [],
   "source": [
    "### GRADED\n",
    "\n",
    "### YOUR SOLUTION HERE \n",
    "new= df[\"reservation_status_date\"].str.split(\"-\", n = 2, expand = True) \n",
    "df[\"year\"] = new[0]\n",
    "df[\"month\"] = new[1]\n",
    "df[\"day\"] = new[2]\n",
    "### END SOLUTION"
   ]
  },
  {
   "cell_type": "markdown",
   "metadata": {},
   "source": [
    "Question 10\n",
    "5 points\n",
    "\n",
    "To conclude, we will examine requests for required car parking spaces. Does a traveler need a parking space, yes or no?\n",
    "\n",
    "Use hot encoding to create dummy categorical variables for modeling on the column required_car_parking_spaces. Make sure you drop the first level by using drop_first= True. Save this to a new DataFrame called df1.\n",
    "\n"
   ]
  },
  {
   "cell_type": "code",
   "execution_count": null,
   "metadata": {},
   "outputs": [],
   "source": [
    "### YOUR SOLUTION HERE\n",
    "df1 =  pd.get_dummies(df, columns = ['required_car_parking_spaces'], drop_first=True)\n",
    "### END SOLUTION"
   ]
  }
 ],
 "metadata": {
  "kernelspec": {
   "display_name": "Python 3",
   "language": "python",
   "name": "python3"
  },
  "language_info": {
   "codemirror_mode": {
    "name": "ipython",
    "version": 3
   },
   "file_extension": ".py",
   "mimetype": "text/x-python",
   "name": "python",
   "nbconvert_exporter": "python",
   "pygments_lexer": "ipython3",
   "version": "3.8.5"
  }
 },
 "nbformat": 4,
 "nbformat_minor": 4
}
