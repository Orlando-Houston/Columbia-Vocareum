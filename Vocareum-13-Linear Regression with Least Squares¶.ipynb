{
 "cells": [
  {
   "cell_type": "markdown",
   "metadata": {},
   "source": [
    "Linear Regression with Least Squares\n",
    "Author: Khal Makhoul, W.P.G.Peterson\n",
    "\n",
    "Revised: Jessica Cervi\n",
    "\n",
    "Expected time = 1.5 hours\n",
    "\n",
    "Total points = 60 points\n",
    "\n",
    "Assignment Overview\n",
    "This assignment will test your ability to code your own version of least squares regression in Python. After a brief review of some of the content from the lecture you will be asked to create a number of functions that will eventually be able to read in raw data to Pandas and perform a least squares regression on a subset of that data.\n",
    "\n",
    "This will include:\n",
    "\n",
    "Calculating least squares weights\n",
    "Reading data on dist to return Pandas DataFrame\n",
    "Select data by column\n",
    "Implement column cut-offs\n",
    "This assignment is designed to build your familiarity and comfort coding in Python while also helping you review key topics from each module. As you progress through the assignment, answers will get increasingly complex. It is important that you adopt a data scientist's mindset when completing this assignment. Remember to run your code from each cell before submitting your assignment. Running your code beforehand will notify you of errors and give you a chance to fix your errors before submitting. You should view your Vocareum submission as if you are delivering a final project to your manager or client.\n",
    "\n",
    "Vocareum Tips\n",
    "\n",
    "Do not add arguments or options to functions unless you are specifically asked to. This will cause an error in Vocareum.\n",
    "Do not use a library unless you are expicitly asked to in the question.\n",
    "You can download the Grading Report after submitting the assignment. This will include feedback and hints on incorrect questions.\n",
    "Learning Objectives\n",
    "Use Pandas to subset dataframes by a range of values\n",
    "Compare columns and rows of an array in matrices\n",
    "Transpose, multiply, and find inverse of arrays\n",
    "Use matrix operations to code least squares\n",
    "Evaluate Ordinary Least Squares using Root Mean Squared Error and R squared\n",
    "Implement Ordinary Least Squares with Sklearn\n",
    "Demonstrate understanding of the mathematical foundations behind least squares regression\n",
    "Use linear regression to make predictions about data\n"
   ]
  },
  {
   "cell_type": "markdown",
   "metadata": {},
   "source": [
    "Linear Regression with Least Squares\n",
    "In statistics, linear regression is a linear approach to modelling the relationship between a dependent variable and one or more independent variables. In the case of one independent variable it is called simple linear regression. As long as a few basic assumptions are fulfilled, linear regression using least squares is solvable exactly, without requiring approximation.\n",
    "\n",
    "This means that the equations presented in the lectures in the module can be adapted directly to Python code, making this a good practice for both using Python and translating an \"algorithm\" to code.\n",
    "\n",
    "To derive the desired result, we will use the same matrix version of the least squares solution presented in the lectures. As a reminder, the vector of weights we are trying to find,  wLS , can be computed via:\n",
    "\n",
    "wLS=(XTX)−1XTy,\n",
    " \n",
    "where  X  is the matrix of inputs and  y  is the output vector from the training set.\n",
    "\n",
    "In this equation,  X  is always defined to have a vector of  1  value(s) as its first column. In other words, even when there is only one input value for each data point,  X  takes the form:\n",
    "\n",
    "X=⎡⎣⎢⎢⎢⎢1 x111 x21⋮ ⋮1 xn1⎤⎦⎥⎥⎥⎥\n",
    " \n",
    "Similarly, for two inputs per data point,  X  will take this form:\n",
    "\n",
    "X=⎡⎣⎢⎢⎢⎢1 x11 x121 x21 x22⋮ ⋮1 xn1 xn2⎤⎦⎥⎥⎥⎥\n",
    " \n",
    "Importing the data set and exploratory data analysis\n",
    "For this assignment, we will attempt to predict house prices using the above ground living area with a regression model on a housing price data set. More information about this dataset can be found here.\n",
    "\n",
    "Before coding an algorithm, we will take a look at our data using Python's pandas. For visualizations we'll use matplotlib.\n",
    "\n",
    "Let's import the necessary libraries and load the data sets we will be using using the pandas pd.read_csv() function.\n",
    "\n"
   ]
  },
  {
   "cell_type": "code",
   "execution_count": null,
   "metadata": {},
   "outputs": [],
   "source": [
    "#Import libraries\n",
    "%matplotlib inline\n",
    "import numpy as np\n",
    "import pandas as pd\n",
    "import matplotlib.pyplot as plt\n",
    "plt.rcParams['figure.figsize'] = (20.0, 10.0)\n",
    "\n",
    "#Read the data set\n",
    "tr_path = './data/train.csv'\n",
    "data = pd.read_csv(tr_path)\n"
   ]
  },
  {
   "cell_type": "markdown",
   "metadata": {},
   "source": [
    "We begin by performing some basic exploratory data analysis by using the function head() and the attribute columns."
   ]
  },
  {
   "cell_type": "code",
   "execution_count": null,
   "metadata": {},
   "outputs": [],
   "source": [
    "ata.head()"
   ]
  },
  {
   "cell_type": "code",
   "execution_count": null,
   "metadata": {},
   "outputs": [],
   "source": [
    "data.columns"
   ]
  },
  {
   "cell_type": "markdown",
   "metadata": {},
   "source": [
    "Question 1:\n",
    "5 points\n",
    "\n",
    "How many columns are in data? Assign the result as integer to ans1.\n",
    "\n",
    "HINT: Use the function len() together with the attribute columns.\n",
    "\n"
   ]
  },
  {
   "cell_type": "code",
   "execution_count": null,
   "metadata": {},
   "outputs": [],
   "source": [
    "### GRADED\n",
    "### YOUR ANSWER BELOW\n",
    "\n",
    "ans1 = None\n",
    "### BEGIN SOLUTION\n",
    "ans1 = len(data.columns)\n",
    "### END SOLUTION"
   ]
  },
  {
   "cell_type": "markdown",
   "metadata": {},
   "source": [
    "Next, let's plot the relationship between our variables of interest: the price for each house and the above ground living area in square feet.\n",
    "\n",
    "We can do so by creating a scatter plot using matplotlib.\n",
    "\n"
   ]
  },
  {
   "cell_type": "code",
   "execution_count": null,
   "metadata": {},
   "outputs": [],
   "source": [
    "Y = data['SalePrice']\n",
    "X = data['GrLivArea']\n",
    "\n",
    "plt.scatter(X, Y, marker = \"x\")\n",
    "\n",
    "### Annotations\n",
    "plt.title(\"Sales Price vs. Living Area (excl. basement)\")\n",
    "plt.xlabel(\"GrLivArea\")\n",
    "plt.ylabel(\"SalePrice\");\n"
   ]
  },
  {
   "cell_type": "markdown",
   "metadata": {},
   "source": [
    "Question 2:\n",
    "5 points\n",
    "\n",
    "Given the above graph, it appears there is a:\n",
    "\n",
    "True: positive correlation between the variables\n",
    "False: negative correlation between the variables\n",
    "Assign boolean corresponding to your choice to ans2."
   ]
  },
  {
   "cell_type": "code",
   "execution_count": null,
   "metadata": {},
   "outputs": [],
   "source": [
    "### GRADED\n",
    "\n",
    "### YOUR ANSWER BELOW\n",
    "\n",
    "ans2 = None\n",
    "### BEGIN SOLUTION\n",
    "ans2 = True\n",
    "### END SOLUTION\n"
   ]
  },
  {
   "cell_type": "code",
   "execution_count": null,
   "metadata": {},
   "outputs": [],
   "source": [
    "Coding Linear Regression\n",
    "Given the equation above for  wLS , we have everything we need in order to solve a linear regression. In the following questions, we will define all the necessery Python functions to complete step-by-step.\n",
    "\n",
    "Coding function example: Matrix inverse\n",
    "Below is an example of a function that takes the inverse of a matrix. We use the numpy module and the function np.linalg.inv(). Though simple, this can be used as a template for a few good coding practices:\n",
    "\n",
    "Name functions and parameters descriptively\n",
    "Use underscores _ to separate words in variable/function names (snake_case, NOT PascalCase or camelCase)\n",
    "In functions and classes, include a docstring between triple quotes\n"
   ]
  },
  {
   "cell_type": "code",
   "execution_count": null,
   "metadata": {},
   "outputs": [],
   "source": [
    "### Create a function inverse_of_matrix that takes, as input, a matrix\n",
    "### and return the inverse of that matrix.\n",
    "### YOUR ANSWER BELOW\n",
    "\n",
    "def inverse_of_matrix(mat):\n",
    "    \"\"\"Calculate and return the multiplicative inverse of a matrix.\n",
    "    \n",
    "    Positional argument:\n",
    "        mat -- a square matrix to invert\n",
    "    \n",
    "    Example:\n",
    "        sample_matrix = [[1, 2], [3, 4]]\n",
    "        the_inverse = inverse_of_matrix(sample_matrix)\n",
    "        \n",
    "    Requirements:\n",
    "        This function depends on the numpy function `numpy.linalg.inv`. \n",
    "    \"\"\"\n",
    "    matrix_inverse = np.linalg.inv(mat)\n",
    "    return matrix_inverse"
   ]
  },
  {
   "cell_type": "markdown",
   "metadata": {},
   "source": [
    "Question 3:\n",
    "5 points\n",
    "\n",
    "Create a function read_to_df that takes, as input, the file_path of a .csv file and uses the appropriate pandas function to read the .csv file into a dataframe df. Your function should return df.\n",
    "\n"
   ]
  },
  {
   "cell_type": "code",
   "execution_count": null,
   "metadata": {},
   "outputs": [],
   "source": [
    "### GRADED\n",
    "\n",
    "### YOUR ANSWER BELOW\n",
    "\n",
    "def read_to_df(file_path):\n",
    "    \"\"\"Read on-disk data and return a dataframe.\"\"\"\n",
    "    \n",
    "    return ''\n",
    "\n",
    "### BEGIN SOLUTION\n",
    "def read_to_df(file_path):\n",
    "    df = pd.read_csv(file_path)\n",
    "    return df\n",
    "### END SOLUTION"
   ]
  },
  {
   "cell_type": "markdown",
   "metadata": {},
   "source": [
    "Question 4:\n",
    "5 points\n",
    "\n",
    "Define a function called select_columns that takes as inputs, a dataframe df and a list of column names. Your function should return a dataframe that only has the columns specified in the list of column names.\n",
    "\n"
   ]
  },
  {
   "cell_type": "code",
   "execution_count": null,
   "metadata": {},
   "outputs": [],
   "source": [
    "### GRADED\n",
    "\n",
    "### YOUR ANSWER BELOW\n",
    "\n",
    "def select_columns(data_frame, column_names):\n",
    "    \"\"\"Return a subset of a data frame by column names.\n",
    "\n",
    "    Positional arguments:\n",
    "        data_frame -- a pandas DataFrame object\n",
    "        column_names -- a list of column ndf = pd.read_csv(tr_path)\n",
    "\n",
    "    Example:\n",
    "        data = read_to_df('train.csv')\n",
    "        selected_columns = ['SalePrice', 'GrLivArea', 'YearBuilt']\n",
    "        sub_df = select_columns(data, selected_columns)\n",
    "    \"\"\"\n",
    "\n",
    "    return ' '\n",
    "\n",
    "### BEGIN SOLUTION\n",
    "def select_columns(data_frame, column_names):\n",
    "\n",
    "    return data_frame[data_frame.columns & column_names]\n",
    "### END SOLUTION\n"
   ]
  },
  {
   "cell_type": "markdown",
   "metadata": {},
   "source": [
    "Question 5:\n",
    "10 points\n",
    "\n",
    "Create a function called column_cutoff that takes, as input, a pandas dataframe and a list of tuples. The tuples should have the following format:(column_name, min_value, max_value). Your function should return a dataframe which excludes rows where the value in a specified column exceeds max_value or is less than min_value.\n",
    "\n",
    "NOTE: DO NOT remove rows if the column value is equal to the min/max value"
   ]
  },
  {
   "cell_type": "code",
   "execution_count": null,
   "metadata": {},
   "outputs": [],
   "source": [
    "### GRADED\n",
    "\n",
    "### YOUR ANSWER BELOW\n",
    "\n",
    "def column_cutoff(data_frame, cutoffs):\n",
    "    \"\"\"Subset data frame by cutting off limits on column values.\n",
    "    \n",
    "    Positional arguments:\n",
    "        data -- pandas DataFrame object\n",
    "        cutoffs -- list of tuples in the format: \n",
    "        (column_name, min_value, max_value)\n",
    "        \n",
    "    Example:\n",
    "        data_frame = read_into_data_frame('train.csv')\n",
    "        # Remove data points with SalePrice < $50,000\n",
    "        # Remove data points with GrLiveAre > 4,000 square feet\n",
    "        cutoffs = [('SalePrice', 50000, 1e10), ('GrLivArea', 0, 4000)]\n",
    "        selected_data = column_cutoff(data_frame, cutoffs)\n",
    "    \"\"\"\n",
    "    \n",
    "    return ''\n",
    "\n",
    "### BEGIN SOLUTION\n",
    "def column_cutoff(data_frame, cutoffs):\n",
    "    data_subset = data_frame\n",
    "    for column_limits in cutoffs:\n",
    "        data_subset = data_subset.loc[data_subset[column_limits[0]] >= column_limits[1],:]\n",
    "        data_subset = data_subset.loc[data_subset[column_limits[0]] <= column_limits[2],:]\n",
    "    return data_subset\n",
    "### END SOLUTION\n"
   ]
  },
  {
   "cell_type": "markdown",
   "metadata": {},
   "source": [
    "In the next question, you will calculate  wLS  by using the inverse matrix function.\n",
    "\n",
    "wLS=(XTX)−1XTy,\n",
    " \n",
    "Back to top\n",
    "\n",
    "Question 6:\n",
    "10 points\n",
    "\n",
    "Create a function called least_squares_weights that takes, as input, two matricies corresponding to the X inputs and y targets (assume the matricies are of the correct dimensions), respectively. Your function should execute the following steps:\n",
    "\n",
    "1) Ensure that the number of rows of each matrix is greater than or equal to the number of columns. If not, transpose the matricies. In particular, the y input should end up as a  n×1  matrix, and the x input as a  n×p  matrix\n",
    "\n",
    "2) Prepend an  n×1  column of ones to the x input matrix\n",
    "\n",
    "3) Use the above equation to calculate the least squares weight and return this vector.\n",
    "\n",
    "Note: Use the functions .shape, np.matmul, np.linalg.inv, np.ones and np.transpose."
   ]
  },
  {
   "cell_type": "code",
   "execution_count": null,
   "metadata": {},
   "outputs": [],
   "source": [
    "## GRADED\n",
    "\n",
    "\n",
    "### YOUR ANSWER BELOW\n",
    "\n",
    "\n",
    "def least_squares_weights(input_x, target_y):\n",
    "    \"\"\"Calculate linear regression least squares weights.\n",
    "    \n",
    "    Positional arguments:\n",
    "        input_x -- matrix of training input data\n",
    "        target_y -- vector of training output values\n",
    "        \n",
    "        The dimensions of X and y will be either p-by-n and 1-by-n\n",
    "        Or n-by-p and n-by-1\n",
    "        \n",
    "    Example:\n",
    "        import numpy as np\n",
    "        training_y = np.array([[208500, 181500, 223500, \n",
    "                                140000, 250000, 143000, \n",
    "                                307000, 200000, 129900, \n",
    "                                118000]])\n",
    "        training_x = np.array([[1710, 1262, 1786, \n",
    "                                1717, 2198, 1362, \n",
    "                                1694, 2090, 1774, \n",
    "                                1077], \n",
    "                               [2003, 1976, 2001, \n",
    "                                1915, 2000, 1993, \n",
    "                                2004, 1973, 1931, \n",
    "                                1939]])\n",
    "        weights = least_squares_weights(training_x, training_y)\n",
    "        \n",
    "        print(weights)  #--> np.array([[-2.29223802e+06],\n",
    "                           [ 5.92536529e+01],\n",
    "                           [ 1.20780450e+03]])\n",
    "                           \n",
    "        print(weights[1][0]) #--> 59.25365290008861\n",
    "        \n",
    "    Assumptions:\n",
    "        -- target_y is a vector whose length is the same as the\n",
    "        number of observations in training_x\n",
    "    \"\"\"\n",
    "    \n",
    "\n",
    "    return ' '\n",
    "\n",
    "### BEGIN SOLUTION\n",
    "def least_squares_weights(input_x, target_y):\n",
    "    if input_x.shape[0] < input_x.shape[1]:\n",
    "        input_x = np.transpose(input_x)\n",
    "        \n",
    "    if target_y.shape[0] < target_y.shape[1]:\n",
    "        target_y = np.transpose(target_y)\n",
    "        \n",
    "        \n",
    "    ones = np.ones((len(target_y), 1), dtype=int)\n",
    "    \n",
    "    augmented_x = np.concatenate((ones, input_x), axis=1)\n",
    "    \n",
    "    left_multiplier = np.matmul(np.linalg.inv(np.matmul(np.transpose(augmented_x), \n",
    "                                                        augmented_x)),\n",
    "                                np.transpose(augmented_x))\n",
    "    w_ls = np.matmul(left_multiplier, target_y)   \n",
    "    \n",
    "    return w_ls\n",
    "### END SOLUTION"
   ]
  },
  {
   "cell_type": "markdown",
   "metadata": {},
   "source": [
    "Testing on Real Data\n",
    "Now that we have code to read the data and perform matrix operations, we can put it all together to perform linear regression on a data set of our choosing.\n",
    "\n",
    "If your functions above are defined correctly, the following two cells should run without error."
   ]
  },
  {
   "cell_type": "code",
   "execution_count": null,
   "metadata": {},
   "outputs": [],
   "source": [
    "def column_cutoff(data_frame, cutoffs):\n",
    "    data_subset = data_frame\n",
    "    print(cutoffs)\n",
    "    for column_limits in cutoffs:\n",
    "        print(column_limits[0])\n",
    "        data_subset = data_subset.loc[data_subset[column_limits[0]] >= column_limits[1],:]\n",
    "        data_subset = data_subset.loc[data_subset[column_limits[0]] <= column_limits[2],:]\n",
    "    return data_subset\n",
    "def least_square_weights(input_x, target_y):\n",
    "    if input_x.shape[0] < input_x.shape[1]:\n",
    "        input_x = np.transpose(input_x)\n",
    "        \n",
    "    if target_y.shape[0] < target_y.shape[1]:\n",
    "        target_y = np.transpose(target_y)\n",
    "        \n",
    "        \n",
    "    ones = np.ones((len(target_y), 1), dtype=int)\n",
    "    \n",
    "    augmented_x = np.concatenate((ones, input_x), axis=1)\n",
    "    \n",
    "    left_multiplier = np.matmul(np.linalg.inv(np.matmul(np.transpose(augmented_x), \n",
    "                                                        augmented_x)),\n",
    "                                np.transpose(augmented_x))\n",
    "    w_ls = np.matmul(left_multiplier, target_y)   \n",
    "    \n",
    "    return w_ls"
   ]
  },
  {
   "cell_type": "code",
   "execution_count": null,
   "metadata": {},
   "outputs": [],
   "source": [
    "df = read_to_df(tr_path)\n",
    "df_sub = select_columns(df, ['SalePrice', 'GrLivArea', 'YearBuilt'])\n",
    "\n",
    "\n",
    "X = df_sub['GrLivArea'].values\n",
    "Y = df_sub['SalePrice'].values\n",
    "\n",
    "### reshaping for input into function\n",
    "training_y = np.array([Y])\n",
    "training_x = np.array([X])\n",
    "\n",
    "weights = least_squares_weights(training_x, training_y)\n",
    "print(weights)"
   ]
  },
  {
   "cell_type": "markdown",
   "metadata": {},
   "source": [
    "Great! We have just obtained the vector of weights for our model.\n",
    "\n",
    "In the cell below, we plot the the price for each house vs the above ground living area in square feet and the line of least squares we have just obtained with our code."
   ]
  },
  {
   "cell_type": "code",
   "execution_count": null,
   "metadata": {},
   "outputs": [],
   "source": [
    "max_X = np.max(X) + 500\n",
    "min_X = np.min(X) - 500\n",
    "\n",
    "### Choose points evenly spaced between min_x in max_x\n",
    "reg_x = np.linspace(min_X, max_X, 1000)\n",
    "\n",
    "### Use the equation for our line to calculate y values\n",
    "reg_y = weights[0][0] + weights[1][0] * reg_x\n",
    "\n",
    "plt.plot(reg_x, reg_y, label='Regression Line')\n",
    "plt.scatter(X, Y, c='k', label='Data')\n",
    "\n",
    "plt.xlabel('GrLivArea')\n",
    "plt.ylabel('SalePrice')\n",
    "plt.legend()\n",
    "plt.show()\n"
   ]
  },
  {
   "cell_type": "markdown",
   "metadata": {},
   "source": [
    "Calculating root mean square error (RMSE)\n",
    "Finally we want to check the RMSE.\n",
    "\n",
    "The RMSE is the square root of the variance of the residuals. It indicates the absolute fit of the model to the data–how close the observed data points are to the model’s predicted values. As the square root of a variance, RMSE can be interpreted as the standard deviation of the unexplained variance, and has the useful property of being in the same units as the response variable. Lower values of RMSE indicate better fit. RMSE is a good measure of how accurately the model predicts the response, and it is the most important criterion for fit if the main purpose of the model is prediction.\n",
    "\n"
   ]
  },
  {
   "cell_type": "code",
   "execution_count": null,
   "metadata": {},
   "outputs": [],
   "source": [
    "rmse = 0\n",
    "\n",
    "b0 = weights[0][0]\n",
    "b1 = weights[1][0]\n",
    "\n",
    "for i in range(len(Y)):\n",
    "    y_pred = b0 + b1 * X[i]\n",
    "    rmse += (Y[i] - y_pred) ** 2\n",
    "rmse = np.sqrt(rmse/len(Y))\n",
    "print(rmse)\n"
   ]
  },
  {
   "cell_type": "markdown",
   "metadata": {},
   "source": [
    "Question 7:\n",
    "5 points\n",
    "\n",
    "Decide whether the following statement is True or False:\n",
    "\n",
    "The Root Mean Square Error is a quantity expressed in the same units as the data\n",
    "\n",
    "Assign boolean response to the variable ans7."
   ]
  },
  {
   "cell_type": "code",
   "execution_count": null,
   "metadata": {},
   "outputs": [],
   "source": [
    "### GRADED\n",
    "\n",
    "### YOUR ANSWER BELOW\n",
    "\n",
    "ans7 = None\n",
    "### BEGIN SOLUTION\n",
    "ans7 = True\n",
    "### END SOLUTION"
   ]
  },
  {
   "cell_type": "markdown",
   "metadata": {},
   "source": [
    "sklearn implementation of linear regression with least squares\n",
    "While it is useful to build and program our model from scratch, this course will also introduce how to use conventional methods to fit each model. Linear regression with least squares in conveniently implemented in the scikit-learn module (also called sklearn).\n",
    "\n",
    "In the next question, we will ask you to implement KNN in sklearn. You can find all the information you need"
   ]
  },
  {
   "cell_type": "markdown",
   "metadata": {},
   "source": [
    "Question 8:\n",
    "15 points\n",
    "\n",
    "Use the function LinearRegression from sklearn to instantiate the classifier lr.\n",
    "\n",
    "Define a 2-dimensional array skl_X from the feature GrLivArea in df_sub and a 1-dimensional array skl_y from the feature SalaPrice in df_sub .\n",
    "\n",
    "Use the function fit() to fit skl_X and skl_y to the classifier."
   ]
  },
  {
   "cell_type": "code",
   "execution_count": null,
   "metadata": {},
   "outputs": [],
   "source": [
    "### GRADED\n",
    "\n",
    "from sklearn.linear_model import LinearRegression\n",
    "\n",
    "### YOUR ANSWER BELOW\n",
    "\n",
    "skl_X = None\n",
    "skl_Y = None\n",
    "### BEGIN SOLUTION\n",
    "lr = LinearRegression()\n",
    "\n",
    "skl_X = df_sub[['GrLivArea']]\n",
    "skl_Y = df_sub['SalePrice']\n",
    "\n",
    "lr.fit(skl_X,skl_Y)\n",
    "### END SOLUTION"
   ]
  },
  {
   "cell_type": "markdown",
   "metadata": {},
   "source": [
    "Oberve and run the code below to see how close your answers are!"
   ]
  },
  {
   "cell_type": "code",
   "execution_count": null,
   "metadata": {},
   "outputs": [],
   "source": [
    "print(\"Intercept:\", lr.intercept_)\n",
    "print(\"Coefficient:\", lr.coef_)\n"
   ]
  }
 ],
 "metadata": {
  "kernelspec": {
   "display_name": "Python 3",
   "language": "python",
   "name": "python3"
  },
  "language_info": {
   "codemirror_mode": {
    "name": "ipython",
    "version": 3
   },
   "file_extension": ".py",
   "mimetype": "text/x-python",
   "name": "python",
   "nbconvert_exporter": "python",
   "pygments_lexer": "ipython3",
   "version": "3.8.5"
  }
 },
 "nbformat": 4,
 "nbformat_minor": 4
}
