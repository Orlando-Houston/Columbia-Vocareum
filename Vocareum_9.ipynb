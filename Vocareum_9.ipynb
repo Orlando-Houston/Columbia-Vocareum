{
 "cells": [
  {
   "cell_type": "code",
   "execution_count": null,
   "metadata": {},
   "outputs": [],
   "source": [
    "#Let's start by importing these packages\n",
    "import pandas as pd\n",
    "import math\n",
    "import random\n",
    "import matplotlib.pyplot as plt\n",
    "import numpy as np\n",
    "import seaborn as sns"
   ]
  },
  {
   "cell_type": "markdown",
   "metadata": {},
   "source": [
    "### Random Variables and Statistical Inferences\n",
    "* In the first part of this assignment, we will be testing your knowledge of the topics covered in Module 8, such as probability theory, sampling, and the probability distribution function.\n",
    "\n",
    "### Probability\n",
    "* We will begin this assignment with a review of the concept of probability. Probability seeks to answer the question, “What is the chance of an event happening?” An event is some outcome of interest. To calculate the chance of an event happening, we also need to consider all the other events that can occur. Some common examples of basic probability are the study of the outcome of tossing a coin or of rolling a die.\n",
    "\n",
    "* Below, we have defined a function roll_one_die that simulates the probability of getting a number greater than four when rolling a fair six-faced die."
   ]
  },
  {
   "cell_type": "code",
   "execution_count": null,
   "metadata": {},
   "outputs": [],
   "source": [
    "random.seed(30)\n",
    "\n",
    "def roll_one_die(n_simulations):\n",
    "    count = 0\n",
    "    for i in range(n_simulations):\n",
    "        outcome = random.randint(1,6)\n",
    "        if outcome > 4:\n",
    "            count +=1\n",
    "    probability = count/n_simulations\n",
    "    return probability\n",
    "        \n",
    "roll_one_die(100000)"
   ]
  },
  {
   "cell_type": "markdown",
   "metadata": {},
   "source": [
    "Question 1\n",
    "10 points\n",
    "\n",
    "Define a function roll_two_dice that simulates the probability of getting a total score that is equal to or greater than 7 when rolling two dice.\n",
    "\n",
    "Your function should take, as input, the total number of throws and should return the probability. Use the function random.seed() to set the random seed equal to 5.\n",
    "\n",
    "Assign the probability of getting a score greater than 7 after 10 throws to ans1"
   ]
  },
  {
   "cell_type": "code",
   "execution_count": null,
   "metadata": {},
   "outputs": [],
   "source": [
    "### GRADED\n",
    "\n",
    "### YOUR SOLUTION HERE\n",
    "random.seed(5)\n",
    "def roll_two_dice(n_simulations):\n",
    "    count = 0\n",
    "    for i in range(n_simulations):\n",
    "        outcome_1 = random.randint(1,6)\n",
    "        outcome_2 = random.randint(1,6)\n",
    "        score  = outcome_1+outcome_2\n",
    "        if (score) > 7:\n",
    "            count +=1\n",
    "    probability = count/n_simulations\n",
    "    return probability\n",
    "ans1 = roll_two_dice(10)\n",
    "### END SOLUTION"
   ]
  },
  {
   "cell_type": "markdown",
   "metadata": {},
   "source": [
    "The Gamma distribution\n",
    "The Gamma distribution is a two-parameter family of continuous probability distributions, like the normal distribution or the Chi-squared distribution you have seen in the module 8 videos.\n",
    "\n",
    "In this section, we will explore some of the features of the Gamma distribution.\n",
    "\n",
    "Back to top\n",
    "\n",
    "Question 2\n",
    "10 points\n",
    "\n",
    "Import the function gamma from the scipy.stats package.\n",
    "\n",
    "Set the parameter a =1.99. Use the gamma.stats function to compute the mean and the variance of a gamma distrution with a =1.99.\n",
    "\n",
    "HINT: For this exercise, set the argument moments equal to mv. You can find more information about this function here.\n",
    "\n",
    "Assign the value of the mean to ans2_aand the value of the variance to ans2_b.\n",
    "\n",
    "Note that Question 2 and Question 3 are connected."
   ]
  },
  {
   "cell_type": "code",
   "execution_count": null,
   "metadata": {},
   "outputs": [],
   "source": [
    "### GRADED\n",
    "\n",
    "### YOUR SOLUTION HERE\n",
    "from scipy.stats import gamma\n",
    "a=1.99\n",
    "ans2_a, ans2_b = gamma.stats(a, moments='mv')\n",
    "### END SOLUTION"
   ]
  },
  {
   "cell_type": "markdown",
   "metadata": {},
   "source": [
    "Question 3\n",
    "10 points\n",
    "\n",
    "Generate an array labeled x with 200 equally spaced values on the interval [0,100]. Generate data y that follows a gamma probability distribution function over x by using the function gamma.pdf() from scipy.stats with the arguments a =5.\n",
    "\n",
    "Finally, plot x and y. Save your figure as plot2.png in the results folder."
   ]
  },
  {
   "cell_type": "code",
   "execution_count": null,
   "metadata": {},
   "outputs": [],
   "source": [
    "### GRADED\n",
    "\n",
    "### YOUR SOLUTION HERE\n",
    "x = np.linspace (0, 100, 200) \n",
    "y = gamma.pdf(x, a=5) \n",
    "plt.plot(x, y) \n",
    "plt.savefig(\"results/plot2.png\")\n",
    "plt.close()\n",
    "### END SOLUTION"
   ]
  },
  {
   "cell_type": "markdown",
   "metadata": {},
   "source": [
    "Sampling\n",
    "Sampling can be performed in Python using the built-in sample() function of the random module. This function returns partcular items chosen from the sequence like a list, tuple, string or set.\n",
    "\n",
    "Back to top\n",
    "\n",
    "Question 4\n",
    "5 points\n",
    "\n",
    "Define a list, list4, with entries 2,4,6,8,10,12,14,16. Set a random seed equal to 8.\n",
    "\n",
    "Use the function sample() to choose three items from list4. Assign the result to the list ans4."
   ]
  },
  {
   "cell_type": "code",
   "execution_count": null,
   "metadata": {},
   "outputs": [],
   "source": [
    "### GRADED\n",
    "\n",
    "### YOUR SOLUTION HERE\n",
    "random.seed(8)\n",
    "list4 = [2,4,6,8,10,12,14,16]\n",
    "ans4 = random.sample(list4,k=3)\n",
    "### END SOLUTION"
   ]
  },
  {
   "cell_type": "markdown",
   "metadata": {},
   "source": [
    "t-distribution\n",
    "The t-distribution is a type of probability distribution that is similar to the normal distribution with a bell shape, but it has heavier tails. T-distributions are more likely to have extreme values than normal distributions, hence the fatter tails.\n",
    "\n",
    "Back to top\n",
    "\n",
    "Question 5\n",
    "10 points\n",
    "\n",
    "Import t from scipy.stats and generate a t-distribution with 34 degrees of freedom. Generate 2000 equally spaced values on the interval [-2,2] and label it t-values. Plot the probability distribution function of your t-distribution with t-values and save you figure as plot5.png into the folder results.\n",
    "\n",
    "Do not specify any other parameter when producing the plot.\n",
    "\n",
    "Questions 6 and 7 depend on Question 5"
   ]
  },
  {
   "cell_type": "code",
   "execution_count": null,
   "metadata": {},
   "outputs": [],
   "source": [
    "### GRADED\n",
    "\n",
    "### YOUR SOLUTION HERE\n",
    "from scipy.stats import t\n",
    "t_dist =t(34)  \n",
    "t_values = np.linspace(-2, 2, 2000)\n",
    "plt.plot(t_values, t_dist.pdf(t_values))\n",
    "plt.savefig(\"results/plot5.png\")\n",
    "plt.close()\n",
    "### END SOLUTION"
   ]
  },
  {
   "cell_type": "markdown",
   "metadata": {},
   "source": [
    "Question 6\n",
    "5 points\n",
    "\n",
    "Based on the data generated in Question 5, what is the area of the probability distribution function at and to the left of 0.8?\n",
    "\n",
    "HINT: Use the function .cdf().\n",
    "\n",
    "Assign your result to ans6."
   ]
  },
  {
   "cell_type": "code",
   "execution_count": null,
   "metadata": {},
   "outputs": [],
   "source": [
    "### GRADED\n",
    "\n",
    "### YOUR SOLUTION HERE\n",
    "ans6 = t_dist.cdf(0.8)\n",
    "### END SOLUTION"
   ]
  },
  {
   "cell_type": "markdown",
   "metadata": {},
   "source": [
    "Question 7\n",
    "5 points\n",
    "\n",
    "Based on the data generated in Question 5, what is the probability that x is equal to -0.4?\n",
    "\n",
    "HINT: Use the function .pdf().\n",
    "\n",
    "Assign your result to ans7."
   ]
  },
  {
   "cell_type": "code",
   "execution_count": null,
   "metadata": {},
   "outputs": [],
   "source": [
    "###GRADED\n",
    "\n",
    "### YOUR SOLUTION HERE\n",
    "ans7 = t_dist.pdf(-0.4)\n",
    "### END SOLUTION"
   ]
  },
  {
   "cell_type": "markdown",
   "metadata": {},
   "source": [
    "Statistical Distributions and Hypothesis Testing\n",
    "In the second part of this assignment we will review some of the concepts that you have learned in Module 9. We will work with discrete and continuous distributions and learn a convenient way to compute confidence intervals and other statistical information for a dataframe.\n",
    "\n",
    "Discrete distributions\n",
    "Back to top\n",
    "\n",
    "Question 8\n",
    "5 points\n",
    "\n",
    "Which one(s) of the option below define a discrete functions?\n",
    "\n",
    "a. Chi-squared distribution\n",
    "b. Bernouilli distribution\n",
    "c. Binomial distribution\n",
    "d. Gaussian distribution\n",
    "Assign the character(s) corresponding to your answer as strings to the list ans8."
   ]
  },
  {
   "cell_type": "code",
   "execution_count": null,
   "metadata": {},
   "outputs": [],
   "source": [
    "### GRADED\n",
    "\n",
    "### YOUR SOLUTION HERE\n",
    "ans8 = ['b', 'c']\n",
    "### END SOLUTION"
   ]
  },
  {
   "cell_type": "markdown",
   "metadata": {},
   "source": [
    "A distribution where only two outcomes are possible (such as success or failure, gain or loss) and where the probability of success and failure is same for all the trials is called a Binomial Distribution.\n",
    "\n",
    "In the code cell below, we have generated a plotted a binomial distribution."
   ]
  },
  {
   "cell_type": "code",
   "execution_count": null,
   "metadata": {},
   "outputs": [],
   "source": [
    "from scipy.stats import binom\n",
    "data_binom = binom.rvs(n=10,p=0.8,size=10000, random_state = 10)\n",
    "ax = sns.distplot(data_binom,kde=False,color='green', hist_kws={\"linewidth\": 30,'alpha':1})\n",
    "ax.set(xlabel='Binomial Distribution', ylabel='Frequency')"
   ]
  },
  {
   "cell_type": "markdown",
   "metadata": {},
   "source": [
    "Question 9\n",
    "5 points\n",
    "\n",
    "Observe tbe code above and compute the mean of the binomial distribution defined above. Assign the result to ans9."
   ]
  },
  {
   "cell_type": "code",
   "execution_count": null,
   "metadata": {},
   "outputs": [],
   "source": [
    "### GRADED\n",
    "\n",
    "### YOUR SOLUTION HERE\n",
    "ans9 = data_binom.mean()\n",
    "### END SOLUTION"
   ]
  },
  {
   "cell_type": "markdown",
   "metadata": {},
   "source": [
    "Confidence intervals\n",
    "A confidence interval is an interval that contains the unknown parameter (such as the population mean  μ ) with certain degree of confidence.\n",
    "\n",
    "In this section, we will look into a convient way to compute the confidence interval in a dataframe.\n",
    "\n",
    "Back to top\n",
    "\n",
    "Question 10\n",
    "10 points\n",
    "\n",
    "Below, we define a toy dataframe and we visualize it. Use the function groupby() on the attribute Model in the dataframe df followed by the function .agg() to compute the mean, the count, and the standard deviation of the attribute Power. Assign the result to the dataframe stats.\n",
    "\n",
    "HINT: Information about the function .agg() can be found here.\n",
    "\n",
    "Question 11 is dependent on Question 10"
   ]
  },
  {
   "cell_type": "code",
   "execution_count": null,
   "metadata": {},
   "outputs": [],
   "source": [
    "df=pd.DataFrame({'Model': ['A1','A1','A1','A2','A3','A3'], \n",
    "                 'Power': [50,150,100,120,140,160] })\n",
    "df"
   ]
  },
  {
   "cell_type": "code",
   "execution_count": null,
   "metadata": {},
   "outputs": [],
   "source": [
    "### GRADED\n",
    "\n",
    "### YOUR SOLUTION HERE\n",
    "stats = df.groupby(['Model'])['Power'].agg(['mean', 'count', 'std'])\n",
    "### END SOLUTION"
   ]
  },
  {
   "cell_type": "raw",
   "metadata": {},
   "source": [
    "Question 11\n",
    "10 points\n",
    "\n",
    "Define two empty lists, ci95_hi and ci95_lo.\n",
    "\n",
    "Complete the for loop below to append the upper and lower bounds on the confidence interval into the lists ci95_hi and ci95_lo, respectively."
   ]
  },
  {
   "cell_type": "code",
   "execution_count": null,
   "metadata": {},
   "outputs": [],
   "source": [
    "for i in stats.index:\n",
    "    m,c,s= stats.loc[i]\n",
    "    #complete from here..\n",
    "`"
   ]
  },
  {
   "cell_type": "markdown",
   "metadata": {},
   "source": [
    "HINTS:\n",
    "\n",
    "The formula for the upper bound of the confidence interval for the mean  m  with standard deviation  s  and count  c  is :\n",
    "upper_bound=m+1.96∗sc√\n",
    " \n",
    "The formula for the lower bound of the confidence interval for the mean  m  with standard deviation  s  and count  c  is :\n",
    "lower_bound=m−1.96∗sc√\n",
    " \n",
    "Finally, add ci95_hi and ci95_lo to the dataframe stats."
   ]
  },
  {
   "cell_type": "code",
   "execution_count": null,
   "metadata": {},
   "outputs": [],
   "source": [
    "### GRADED\n",
    "\n",
    "### YOUR SOLUTION HERE\n",
    "ci95_hi = []\n",
    "ci95_lo = []\n",
    "\n",
    "for i in stats.index:\n",
    "    m, c, s = stats.loc[i]\n",
    "    ci95_hi = list(ci95_hi)\n",
    "    ci95_hi.append(m + 1.96*s/math.sqrt(c))\n",
    "    ci95_lo.append(m - 1.96*s/math.sqrt(c))\n",
    "\n",
    "stats['ci95_hi'] = ci95_hi\n",
    "stats['ci95_lo'] = ci95_lo\n",
    "### END SOLUTION"
   ]
  },
  {
   "cell_type": "code",
   "execution_count": null,
   "metadata": {},
   "outputs": [],
   "source": []
  },
  {
   "cell_type": "code",
   "execution_count": null,
   "metadata": {},
   "outputs": [],
   "source": []
  },
  {
   "cell_type": "code",
   "execution_count": null,
   "metadata": {},
   "outputs": [],
   "source": []
  },
  {
   "cell_type": "code",
   "execution_count": null,
   "metadata": {},
   "outputs": [],
   "source": []
  }
 ],
 "metadata": {
  "kernelspec": {
   "display_name": "Python 3",
   "language": "python",
   "name": "python3"
  },
  "language_info": {
   "codemirror_mode": {
    "name": "ipython",
    "version": 3
   },
   "file_extension": ".py",
   "mimetype": "text/x-python",
   "name": "python",
   "nbconvert_exporter": "python",
   "pygments_lexer": "ipython3",
   "version": "3.8.5"
  }
 },
 "nbformat": 4,
 "nbformat_minor": 4
}
