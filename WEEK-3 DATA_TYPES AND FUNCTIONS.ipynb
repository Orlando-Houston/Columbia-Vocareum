{
 "cells": [
  {
   "cell_type": "markdown",
   "metadata": {},
   "source": [
    "* Learning Objectives\n",
    "* Use Jupyter Notebooks to begin programming in Python.\n",
    "* Identify Python data types, including strings, integers, floats, booleans, lists, and tuples.\n",
    "* Explain the operations that can be performed on a given data type.\n",
    "* Examine the benefits and limitations of using lists, tuples, and dictionaries to store and organize your data.\n",
    "* Explain the benefits of functions in performing specified tasks in Python.\n",
    "* Use built-in functions to perform common tasks in Python.\n",
    "* Use methods to perform analyses on specific data types.\n",
    "* Create custom functions to perform custom analyses relevant to the dataset or research question."
   ]
  },
  {
   "cell_type": "markdown",
   "metadata": {},
   "source": [
    "* Question 1\n",
    "* Assign the value of 175 multiplied by 16.28 to the variable ans1 and make sure it's stored as a float."
   ]
  },
  {
   "cell_type": "code",
   "execution_count": null,
   "metadata": {},
   "outputs": [],
   "source": [
    "ans1 = 175*16.28\n",
    "type(ans1)"
   ]
  },
  {
   "cell_type": "markdown",
   "metadata": {},
   "source": [
    "* Question 2\n",
    "* Assign the value of 572 divided by 8.73 to the variable ans2 and make sure it's stored as a float."
   ]
  },
  {
   "cell_type": "code",
   "execution_count": null,
   "metadata": {},
   "outputs": [],
   "source": [
    "ans2 = 572/8.73\n",
    "type(ans2)"
   ]
  },
  {
   "cell_type": "markdown",
   "metadata": {},
   "source": [
    "* Strings\n",
    "* Strings are data types designed to contain single characters or a series of them, such as words or sentences.\n",
    "* Question 3\n",
    "* Assign the sentence \"I am a student\" as a string to the variable ans3.\n"
   ]
  },
  {
   "cell_type": "code",
   "execution_count": null,
   "metadata": {},
   "outputs": [],
   "source": [
    "ans3 = 'I am a student'\n",
    "type(ans3)"
   ]
  },
  {
   "cell_type": "markdown",
   "metadata": {},
   "source": [
    "* Converting Data Types\n",
    "* As you have learned, int are data types designed to store integer numbers.\n",
    "* Question 4\n",
    "* Assign the value of 25.927 to the variable ans4 and convert it into an integer."
   ]
  },
  {
   "cell_type": "code",
   "execution_count": null,
   "metadata": {},
   "outputs": [],
   "source": [
    "ans4 = int(25.927)\n",
    "int(ans4)"
   ]
  },
  {
   "cell_type": "markdown",
   "metadata": {},
   "source": [
    "* Lists\n",
    "* In Python, a list is a collection of elements which is ordered and changeable. Lists can contain integers, floats, strings, other lists, and so on.\n",
    "* 5 points\n",
    "* Create a list with the numbers 1,4,9,16,25 and assign it to a variable called list_1."
   ]
  },
  {
   "cell_type": "code",
   "execution_count": null,
   "metadata": {},
   "outputs": [],
   "source": [
    "list_1 = [1,4,9,16,25]\n",
    "print(type(list_1))"
   ]
  },
  {
   "cell_type": "markdown",
   "metadata": {},
   "source": [
    "* Question 6\n",
    "* Create a list with the elements: 1, \"Hello\", 14, 5.6 and assign it to a variable called list_2."
   ]
  },
  {
   "cell_type": "code",
   "execution_count": null,
   "metadata": {},
   "outputs": [],
   "source": [
    "list_2 = [1, \"Hello\", 14, 5.6]\n",
    "print(type(list_2))"
   ]
  },
  {
   "cell_type": "markdown",
   "metadata": {},
   "source": [
    "* Question 7\n",
    "* Given list_3 = [3,4,5], create a nested list that includes the elements \"Columbia\", 11, 24.5, 3, list_3 and assign it to a variable called list_4."
   ]
  },
  {
   "cell_type": "code",
   "execution_count": null,
   "metadata": {},
   "outputs": [],
   "source": [
    "list_3 = [3,4,5]\n",
    "\n",
    "### YOUR SOLUTION HERE\n",
    "list_4 = [\"Columbia\", 11, 24.5, 3, list_3]"
   ]
  },
  {
   "cell_type": "markdown",
   "metadata": {},
   "source": [
    "* Question 8\n",
    "* Given list_5 = [3,4,5,6,7,8,9], access the last element of the list and assign it to the variable list_5_elem."
   ]
  },
  {
   "cell_type": "code",
   "execution_count": null,
   "metadata": {},
   "outputs": [],
   "source": [
    "### GRADED\n",
    "list_5 = [3,4,5,6,7,8,9]\n",
    "\n",
    "### YOUR SOLUTION HERE\n",
    "list_5_elem = list_5[-1]\n",
    "### END SOLUTION"
   ]
  },
  {
   "cell_type": "markdown",
   "metadata": {},
   "source": [
    "* Question 9\n",
    "* Define list_6 = [10,20,30,\"Hello\", 5.82,1,\"student\", \"Python\"] and delete the third last element on the list."
   ]
  },
  {
   "cell_type": "code",
   "execution_count": null,
   "metadata": {},
   "outputs": [],
   "source": [
    "### GRADED\n",
    "### YOUR ANSWER BELOW\n",
    "\n",
    "### YOUR SOLUTION HERE\n",
    "list_6 = [10,20,30,\"Hello\", 5.82,1,\"student\", \"Python\"]\n",
    "del list_6[-3]\n",
    "### END SOLUTION"
   ]
  },
  {
   "cell_type": "markdown",
   "metadata": {},
   "source": [
    "* Tuples\n",
    "* A tuple is a collection which is ordered and unchangeable. In the same way as lists, tuples allow duplicate members.\n",
    "* Question 10\n",
    "* Create a tuple with elements from 10 to 20 and assign it to the variable 'tuple_1'. Get the first three values and assign them to a variable called sliced_tuple_1."
   ]
  },
  {
   "cell_type": "code",
   "execution_count": null,
   "metadata": {},
   "outputs": [],
   "source": [
    "### GRADED\n",
    "### YOUR ANSWER BELOW\n",
    "\n",
    "### YOUR SOLUTION HERE\n",
    "tuple_1 = tuple(range(10,21))\n",
    "sliced_tuple_1 = tuple_1[:3]\n",
    "### END SOLUTION"
   ]
  },
  {
   "cell_type": "markdown",
   "metadata": {},
   "source": [
    "* Dictionaries\n",
    "* A very important data type in Python is dictonary. A dictionary is a collection which is unordered, changeable, and indexed.\n",
    "\n",
    "* A dictionary holds a key:value pair. Each key-value pair in a dictionary is separated by a :, whereas each key is separated by a ,. Keys in a dictonary must be unique, but values can repeat themselves.\n",
    "* Question 11\n",
    "* Create a dictionary with a key \"name\" with value \"Andrew\" and a key \"age\" with value 25. Assign it to a variable called dict_1."
   ]
  },
  {
   "cell_type": "code",
   "execution_count": null,
   "metadata": {},
   "outputs": [],
   "source": [
    "### GRADED\n",
    "### YOUR ANSWER BELOW\n",
    "\n",
    "### YOUR SOLUTION HERE\n",
    "dict_1 = {\"name\":\"Andrew\", \"age\":25}\n",
    "### END SOLUTION"
   ]
  },
  {
   "cell_type": "markdown",
   "metadata": {},
   "source": [
    "* Question 12\n",
    "* Create a new key \"city\" in dict_1 and assign the value \"Seattle\" to it."
   ]
  },
  {
   "cell_type": "code",
   "execution_count": null,
   "metadata": {},
   "outputs": [],
   "source": [
    "### GRADED\n",
    "### YOUR ANSWER BELOW\n",
    "\n",
    "### YOUR SOLUTION HERE\n",
    "dict_1[\"city\"] = \"Seattle\" \n",
    "### END SOLUTION"
   ]
  },
  {
   "cell_type": "markdown",
   "metadata": {},
   "source": [
    "* Question 13\n",
    "* Change the value of \"city\" to \"New York\" in dict_1."
   ]
  },
  {
   "cell_type": "code",
   "execution_count": null,
   "metadata": {},
   "outputs": [],
   "source": [
    "### GRADED\n",
    "\n",
    "### YOUR SOLUTION HERE\n",
    "dict_1[\"city\"] = \"New York\"\n",
    "### END SOLUTION"
   ]
  },
  {
   "cell_type": "markdown",
   "metadata": {},
   "source": [
    "* Writing functions in Python\n",
    "* In the second part of this assignment, we will be testing your knowledge of the topics covered in Module 3, such as Python built-in functions, user-defined functions loops, and conditional statements.\n",
    "\n",
    "* Methods Scripts\n",
    "* A function is a bundle of code which only runs when it is called. Python comes with many built-in functions. You can find a list of the functions that come with Python here.\n",
    "* Question 14\n",
    "* Assign -25.82 to the variable ans14 and take the absolute value."
   ]
  },
  {
   "cell_type": "code",
   "execution_count": null,
   "metadata": {},
   "outputs": [],
   "source": [
    "### GRADED\n",
    "### YOUR ANSWER BELOW\n",
    "\n",
    "### YOUR SOLUTION HERE\n",
    "ans14 = -25.82\n",
    "ans14 = abs(ans14)\n",
    "### END SOLUTION"
   ]
  },
  {
   "cell_type": "markdown",
   "metadata": {},
   "source": [
    "* Question 15\n",
    "* Assign the string \"I live in the US\" to the variable ans15. Next, using a string method, change all the characters to lower-case letters."
   ]
  },
  {
   "cell_type": "code",
   "execution_count": null,
   "metadata": {},
   "outputs": [],
   "source": [
    "### GRADED\n",
    "### YOUR ANSWER BELOW\n",
    "\n",
    "### YOUR SOLUTION HERE\n",
    "ans15 = 'I live in the US'\n",
    "ans15 = ans15.lower()\n",
    "ans15\n",
    "### END SOLUTION"
   ]
  },
  {
   "cell_type": "markdown",
   "metadata": {},
   "source": [
    "* Conditional if statements\n",
    "* Sometimes you want your function to do one thing under one condition and another thing under another condition. We can specify this in the function body using the keywords if, else, and elif.\n",
    "* Question 16\n",
    "* Given num_1, num_2, and the list values, write a program that appends a string \"True\" to values if num_1 is less than 0 and appends \"False\" to values if num_2 is greater than 0."
   ]
  },
  {
   "cell_type": "code",
   "execution_count": null,
   "metadata": {},
   "outputs": [],
   "source": [
    "### GRADED\n",
    "\n",
    "num_1 = -738.9\n",
    "num_2 = 11\n",
    "values =[]\n",
    "\n",
    "### YOUR SOLUTION HERE\n",
    "\n",
    "if num_1 < 0:\n",
    "    values.append(\"True\")\n",
    "if num_2 > 0:\n",
    "    values.append(\"False\")\n",
    "### END SOLUTION"
   ]
  },
  {
   "cell_type": "markdown",
   "metadata": {},
   "source": [
    "* Foor loops\n",
    "* For loops work on iterable objects. An iterable object is an object that returns its members one at a time.\n",
    "* Another basic operator in Python is the remainder function. The corresponding symbol is %. This function returns the remainder when first operand is divided by the second\n",
    "* Question 17\n",
    "* Create a program that iterates using a for loop over all values of list_mod. The program must check each value and append the string \"True\" to the list result if the value is even or append the string \"False\" to the list result otherwise."
   ]
  },
  {
   "cell_type": "code",
   "execution_count": null,
   "metadata": {},
   "outputs": [],
   "source": [
    "### GRADED\n",
    "### YOUR ANSWER BELOW\n",
    "\n",
    "list_mod = list(range(1,15))\n",
    "result = []\n",
    "\n",
    "### YOUR SOLUTION HERE\n",
    "for number in list_mod:\n",
    "    if number % 2 == 0:\n",
    "        result.append(\"True\")\n",
    "    else:\n",
    "        result.append(\"False\")\n",
    "### END SOLUTION"
   ]
  },
  {
   "cell_type": "markdown",
   "metadata": {},
   "source": [
    "* Question 18\n",
    "* Given the list called time with elements from 7 to 24 use a for loop to create a program that appends \"Good morning\" to result_time if an element in the list time is less than or equal to 12, appends \"Good afternoon\" if an element is less than 20, and otherwise appends \"Good night\" to result_time."
   ]
  },
  {
   "cell_type": "code",
   "execution_count": null,
   "metadata": {},
   "outputs": [],
   "source": [
    "### GRADED\n",
    "### YOUR ANSWER BELOW\n",
    "\n",
    "time = list(range(7,25))\n",
    "result_time = []\n",
    "\n",
    "### YOUR SOLUTION HERE\n",
    "for hour in time:\n",
    "    if hour <= 12:\n",
    "        result_time.append(\"Good morning\")\n",
    "    elif hour < 20:\n",
    "        result_time.append(\"Good afternoon\")\n",
    "    else:\n",
    "        result_time.append(\"Good night\")\n",
    "### END SOLUTION"
   ]
  },
  {
   "cell_type": "markdown",
   "metadata": {},
   "source": [
    "* User-defined Functions\n",
    "* As you write more complicated code, built-in Python functions won't be enough. For this reason, Python allows you to create user-defined function. Function are defined using the def keyword followed by the name of the function and the arguments you need to pass.\n",
    "\n",
    "* Arguments are specified after the function name, inside parentheses and a colon is needed after the arguments. You can add as many arguments as you want, just separate them with a comma. Finally, after you wrote the block of instructions you want your function to perform, return a value using the return keyword. Note that the bundle of instructions and the return statement need to be indented."
   ]
  },
  {
   "cell_type": "markdown",
   "metadata": {},
   "source": [
    "* Question 19\n",
    "* Create a function called validate that checks whether the variable x is even. If it's even, return the string \"even\"; if it's odd, return the string \"odd\"."
   ]
  },
  {
   "cell_type": "code",
   "execution_count": null,
   "metadata": {},
   "outputs": [],
   "source": [
    "### GRADED\n",
    "### YOUR ANSWER BELOW\n",
    "\n",
    "### YOUR SOLUTION HERE\n",
    "def validate(x):\n",
    "    if (x % 2 == 0): \n",
    "        return \"even\"\n",
    "    else: \n",
    "        return \"odd\"\n",
    "### END SOLUTION"
   ]
  },
  {
   "cell_type": "markdown",
   "metadata": {},
   "source": [
    "* Question 20\n",
    "* Create a function called abs_value that takes a number and returns the absolute value of it."
   ]
  },
  {
   "cell_type": "code",
   "execution_count": null,
   "metadata": {},
   "outputs": [],
   "source": [
    "### GRADED\n",
    "### YOUR ANSWER BELOW\n",
    "\n",
    "### YOUR SOLUTION HERE\n",
    "def abs_value(x):\n",
    "    if x >= 0:\n",
    "        return x\n",
    "    else:\n",
    "        return -x\n",
    "\n",
    "### END SOLUTION"
   ]
  }
 ],
 "metadata": {
  "kernelspec": {
   "display_name": "Python 3",
   "language": "python",
   "name": "python3"
  },
  "language_info": {
   "codemirror_mode": {
    "name": "ipython",
    "version": 3
   },
   "file_extension": ".py",
   "mimetype": "text/x-python",
   "name": "python",
   "nbconvert_exporter": "python",
   "pygments_lexer": "ipython3",
   "version": "3.8.5"
  }
 },
 "nbformat": 4,
 "nbformat_minor": 4
}
