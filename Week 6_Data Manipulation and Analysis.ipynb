{
 "cells": [
  {
   "cell_type": "markdown",
   "metadata": {},
   "source": [
    "Data Manipulation and Analysis with Pandas\n",
    "Author: Favio Vázquez\n",
    "\n",
    "Reviewer: Jessica Cervi\n",
    "\n",
    "Expected time = 3 hrs\n",
    "\n",
    "Total points = 110 points\n",
    "\n",
    "Assignment Overview\n",
    "In this assignment you will manipulate and analyze data with Pandas. You will begin by reviewing how to read data into a series or dataframe, then you will use additional functionalities of Pandas objects. After that, you will index, select and edit data inside dataframes. In the final parts of the assignment you will be combining, grouping and aggregating dataframes.\n",
    "\n",
    "This assignment is designed to build your familiarity and comfort coding in Python while also helping you review key topics from each module. As you progress through the assignment, answers will get increasingly complex. It is important that you adopt a data scientist's mindset when completing this assignment. Remember to run your code from each cell before submitting your assignment. Running your code beforehand will notify you of errors and give you a chance to fix your errors before submitting. You should view your Vocareum submission as if you are delivering a final project to your manager or client.\n",
    "\n",
    "Vocareum Tips\n",
    "\n",
    "Do not add arguments or options to functions unless you are specifically asked to. This will cause an error in Vocareum.\n",
    "Do not use a library unless you are explicitly asked to in the question.\n",
    "You can download the Grading Report after submitting the assignment. This will include feedback and hints on incorrect questions.\n"
   ]
  },
  {
   "cell_type": "code",
   "execution_count": null,
   "metadata": {},
   "outputs": [],
   "source": [
    "# Let's start by importing Pandas\n",
    "import pandas as pd\n",
    "\n",
    "# Avoid warnings\n",
    "import warnings\n",
    "warnings.filterwarnings(\"ignore\")"
   ]
  },
  {
   "cell_type": "markdown",
   "metadata": {},
   "source": [
    "Importing data\n",
    "We will begin this assignment with a review of how to import data with Pandas. For several parts of this assignment we will be using two datasets coming from the past 120 years of Olympic history: athletes and results. This dataset is saved inside the folder /data; more information about this dataset can be found on Kaggle at this link:\n",
    "\n",
    "https://www.kaggle.com/heesoo37/120-years-of-olympic-history-athletes-and-results\n",
    "\n",
    "This is a historical dataset on the modern Olympic Games, including all the Games from Athens 1896 to Rio 2016.\n",
    "\n",
    "The file athlete_events.csv contains 271116 rows and 15 columns. Each row corresponds to an individual athlete competing in an individual Olympic event (athlete-events). The columns are:\n",
    "\n",
    "ID - Unique number for each athlete\n",
    "Name - Athlete's name\n",
    "Sex - M or F\n",
    "Age - Athlete's age\n",
    "Height - In centimeters\n",
    "Weight - In kilograms\n",
    "Team - Team name\n",
    "NOC - National Olympic Committee 3-letter code\n",
    "Games - Year and season\n",
    "Year - Year of game\n",
    "Season - Summer or Winter\n",
    "City - Host city\n",
    "Sport - Sport\n",
    "Event - Event\n",
    "Medal - Gold, Silver, Bronze, or NA\n",
    "The file noc_regions.csv contains 230 rows and 3 columns. Each row contains information about the different National Olympic Committee (NOC). The columns are:\n",
    "\n",
    "NOC - National Olympic Committee abreviation\n",
    "region - Name of country in NOC\n",
    "notes - Notes about the region and NOC"
   ]
  },
  {
   "cell_type": "markdown",
   "metadata": {},
   "source": [
    "Question 1\n",
    "5 points\n",
    "\n",
    "Read the CSV file named \"athlete_events.csv\" contained in the data/ folder and assign it to a dataframe called df.\n",
    "\n"
   ]
  },
  {
   "cell_type": "code",
   "execution_count": null,
   "metadata": {},
   "outputs": [],
   "source": [
    "### GRADED\n",
    "\n",
    "### YOUR SOLUTION HERE\n",
    "df = pd.read_csv(\"data/athlete_events.csv\")\n",
    "### END SOLUTION"
   ]
  },
  {
   "cell_type": "code",
   "execution_count": null,
   "metadata": {},
   "outputs": [],
   "source": [
    "# Let's see the shape of out dataframe df\n",
    "print(\"Number of rows: {}, number of columns: {}\".format(df.shape[0],df.shape[1]))\n"
   ]
  },
  {
   "cell_type": "markdown",
   "metadata": {},
   "source": [
    "Question 2\n",
    "5 points\n",
    "\n",
    "Read the CSV file named \"noc_regions.csv\" in the data/ folder and assign it to a dataframe called regions.\n",
    "\n"
   ]
  },
  {
   "cell_type": "code",
   "execution_count": null,
   "metadata": {},
   "outputs": [],
   "source": [
    "### GRADED\n",
    "\n",
    "### YOUR SOLUTION HERE\n",
    "regions = pd.read_csv(\"data/noc_regions.csv\")\n",
    "### END SOLUTION\n"
   ]
  },
  {
   "cell_type": "code",
   "execution_count": null,
   "metadata": {},
   "outputs": [],
   "source": [
    "# Let's take a look at our dataframe regions\n",
    "regions.head()"
   ]
  },
  {
   "cell_type": "code",
   "execution_count": null,
   "metadata": {},
   "outputs": [],
   "source": [
    "# Let's see the shape of out dataframe regions\n",
    "print(\"Number of rows: {}, number of columns: {}\".format(regions.shape[0],regions.shape[1]))\n"
   ]
  },
  {
   "cell_type": "markdown",
   "metadata": {},
   "source": [
    "andas Objects\n",
    "In this part of the assignment we will begin studying the two most important objects exposed by Pandas: Series and Dataframes. As you remember:\n",
    "\n",
    "Series is a 1 dimensional data structure in Pandas.\n",
    "DataFrame is a 2 dimentional data structure in Pandas, made up of columns and rows.\n",
    "Back to top\n",
    "\n",
    "Question 3\n",
    "\n",
    "Select a series from the dataframe df with the contents of the column Height and store it in a variable called height."
   ]
  },
  {
   "cell_type": "code",
   "execution_count": null,
   "metadata": {},
   "outputs": [],
   "source": [
    "### GRADED\n",
    "\n",
    "### YOUR SOLUTION HERE\n",
    "height = df[\"Height\"]\n",
    "### END SOLUTION\n"
   ]
  },
  {
   "cell_type": "markdown",
   "metadata": {},
   "source": [
    "Question 4\n",
    "10 points\n",
    "\n",
    "In the videos, you have seen how you can use the function map to transform the entries of a pandas series. In a similar way, you can use the function rename to replace the entries of a series. Like map, rename takes as argument a lambda function executing the desired transformation on the series.\n",
    "\n",
    "The syntax is as follows\n",
    "\n",
    "new_series = series.rename(lambda x: your function)\n",
    "Use the function rename to rename the index (or labels) of the series height by raising each old label to the power of two, like so:\n",
    "\n",
    "0→01→12→43→9⋮\n",
    "Save this new series in a variable called height_new.\n",
    "\n"
   ]
  },
  {
   "cell_type": "code",
   "execution_count": null,
   "metadata": {},
   "outputs": [],
   "source": [
    "### GRADED\n",
    "\n",
    "### YOUR SOLUTION HERE\n",
    "height_new = height.rename(lambda x: x ** 2)\n",
    "### END SOLUTION"
   ]
  },
  {
   "cell_type": "code",
   "execution_count": null,
   "metadata": {},
   "outputs": [],
   "source": [
    "Question 5\n",
    "Select a series from the dataframe regions with the contents of the column region and store it in a variable called reg."
   ]
  },
  {
   "cell_type": "code",
   "execution_count": null,
   "metadata": {},
   "outputs": [],
   "source": [
    "### GRADED\n",
    "\n",
    "### YOUR SOLUTION HERE\n",
    "reg = regions[\"region\"]\n",
    "### END SOLUTION\n"
   ]
  },
  {
   "cell_type": "code",
   "execution_count": null,
   "metadata": {},
   "outputs": [],
   "source": [
    "Question 6\n",
    "You can also select multiple columns at once from a dataframe to create a new dataframe.\n",
    "\n",
    "Create a new dataframe from the dataframe df, that only contain the columns ID, Age, Height, Weight and Sex in this specific order. Name this new dataframe df_subset.\n",
    "\n"
   ]
  },
  {
   "cell_type": "code",
   "execution_count": null,
   "metadata": {},
   "outputs": [],
   "source": [
    "### GRADED\n",
    "\n",
    "### YOUR SOLUTION HERE\n",
    "df_subset = df[[\"ID\", \"Age\", \"Height\", \"Weight\", \"Sex\"]]\n",
    "### END SOLUTION"
   ]
  },
  {
   "cell_type": "code",
   "execution_count": null,
   "metadata": {},
   "outputs": [],
   "source": [
    "#Let's have a look at the dataframe df_subset by using the command .head()\n",
    "\n",
    "df_subset.head()"
   ]
  },
  {
   "cell_type": "markdown",
   "metadata": {},
   "source": [
    "Question 7\n",
    "10 points\n",
    "\n",
    "Observe the dataframe df_subset, above. You see that the column Sex contains entries M and F based on whether an athlete was a male or a female, respectively.\n",
    "\n",
    "Create a new column, New sex, in our dataframe. Fill this column by using the function map to change the entries of the column sex from M to male and from F to female.\n",
    "\n",
    "The syntax is as follows\n",
    "\n",
    "dataframe['column'] = dataframe.column.map(lambda x: your function)\n",
    "HINT: Notice that we are adding a new column, not replacing an existing one!"
   ]
  },
  {
   "cell_type": "code",
   "execution_count": null,
   "metadata": {},
   "outputs": [],
   "source": [
    "### GRADED\n",
    "\n",
    "### YOUR SOLUTION HERE\n",
    "df_subset[\"New sex\"] = df_subset.Sex.map(lambda x: 'male' if x == 'M' else 'female')\n",
    "### END SOLUTION"
   ]
  },
  {
   "cell_type": "markdown",
   "metadata": {},
   "source": [
    "Indexing and selecting data from Dataframes\n",
    "In this part of the assignment we will work with the dataframes from above to select specific data using Pandas different methods and attributes. You have learned to use loc[] and iloc[] to do this.\n",
    "\n",
    "Back to top\n",
    "\n",
    "Question 8\n",
    "5 points\n",
    "\n",
    "Create a new dataframe called df_1 by selecting the following from the dataframe df:\n",
    "\n",
    "the rows with labels from 3 through 11.\n",
    "the columns from ID to Height."
   ]
  },
  {
   "cell_type": "code",
   "execution_count": null,
   "metadata": {},
   "outputs": [],
   "source": [
    "### GRADED\n",
    "\n",
    "### YOUR SOLUTION HERE\n",
    "df_1 = df.loc[3:11, \"ID\": \"Height\"]\n",
    "### END SOLUTION"
   ]
  },
  {
   "cell_type": "markdown",
   "metadata": {},
   "source": [
    "Question 9\n",
    "10 points\n",
    "\n",
    "Select all the rows from the dataframe df when the Year is greater than 1980. Assign this dataframe to df_year.\n",
    "\n",
    "Next, select all the rows in df_year where Team is equal to \"China\", \"United States\", \"Italy\" or \"Spain\". Save your results in a dataframe called df_country.\n",
    "\n",
    "HINT: To select only the desired countries, create a list containing the contries and use the function isin like so:\n",
    "\n",
    "df.Team.isin([list with countries])"
   ]
  },
  {
   "cell_type": "code",
   "execution_count": null,
   "metadata": {},
   "outputs": [],
   "source": [
    "### GRADED\n",
    "\n",
    "### YOUR SOLUTION HERE\n",
    "df_year = df.loc[df.Year > 1980]\n",
    "df_country = df_year.loc[df_year.Team.isin([\"China\", \"United States\", \"Italy\", \"Spain\"])]\n",
    "### END SOLUTION"
   ]
  },
  {
   "cell_type": "markdown",
   "metadata": {},
   "source": [
    "Question 10\n",
    "5 points\n",
    "\n",
    "Using the function iloc() select the rows with index 0, 10, 20, 40, 43, 66 and the columns with index 0, 3, 5 from the dataframe df. Store your results in a dataframe called df_3."
   ]
  },
  {
   "cell_type": "code",
   "execution_count": null,
   "metadata": {},
   "outputs": [],
   "source": [
    "### GRADED\n",
    "\n",
    "### YOUR SOLUTION HERE\n",
    "df_3 = df.iloc[[0, 10, 20, 40, 43, 66],[0, 3, 5]]\n",
    "### END SOLUTION"
   ]
  },
  {
   "cell_type": "markdown",
   "metadata": {},
   "source": [
    "Editing data in DataFrames and Combining DataFrames\n",
    "In this section we will modify the internal structure and data of dataframes, deleting some of its columns and transforming others. We will also be combining our dataframes df and regions and learn different ways of working with them.\n",
    "\n",
    "Back to top\n",
    "\n",
    "Question 11\n",
    "10 points\n",
    "\n",
    "Use a left join to combine the dataframes df and regions, in this particular order, into a new dataframe called merged. Set the column NOC as the key column.\n",
    "\n",
    "HINT: Use the pandas function merge."
   ]
  },
  {
   "cell_type": "code",
   "execution_count": null,
   "metadata": {},
   "outputs": [],
   "source": [
    "### GRADED\n",
    "\n",
    "# Let's read our data again to have the original datasets\n",
    "df = pd.read_csv(\"data/athlete_events.csv\")\n",
    "regions = pd.read_csv(\"data/noc_regions.csv\")\n",
    "\n",
    "### YOUR SOLUTION HERE\n",
    "merged = pd.merge(df, regions, on='NOC', how='left')\n",
    "### END SOLUTION\n"
   ]
  },
  {
   "cell_type": "markdown",
   "metadata": {},
   "source": [
    "Grouping and Aggregating DataFrames\n",
    "In this final section we will group and perform aggregations on our dataframes."
   ]
  },
  {
   "cell_type": "code",
   "execution_count": null,
   "metadata": {},
   "outputs": [],
   "source": [
    "# Let's read our data again to have the original datasets\n",
    "df = pd.read_csv(\"data/athlete_events.csv\")\n",
    "regions = pd.read_csv(\"data/noc_regions.csv\")\n",
    "regions.head()"
   ]
  },
  {
   "cell_type": "markdown",
   "metadata": {},
   "source": [
    "Question 12\n",
    "10 points\n",
    "\n",
    "Reshape the regions dataframe by setting:\n",
    "\n",
    "index = region\n",
    "columns = NOC\n",
    "values = notes\n",
    "Assign the new dataframe to regions_stacked"
   ]
  },
  {
   "cell_type": "code",
   "execution_count": null,
   "metadata": {},
   "outputs": [],
   "source": [
    "### GRADED\n",
    "\n",
    "### YOUR SOLUTION HERE\n",
    "regions_stacked = regions.pivot(index = 'region', columns = 'NOC', values = 'notes')\n",
    "### END SOLUTION"
   ]
  },
  {
   "cell_type": "markdown",
   "metadata": {},
   "source": [
    "Question 13\n",
    "10 points\n",
    "\n",
    "Group the entries of the dataframe df by Season and Medal. Assign the new dataframe to season_medal. In which Olympic games did the first group of athletes participate?\n",
    "\n",
    "a) 2014 Winter\n",
    "b) 1920 Summer\n",
    "c) 1994 Summer\n",
    "d) 1920 Winter\n",
    "Assign character, as a string, to ans13.\n",
    "\n"
   ]
  },
  {
   "cell_type": "code",
   "execution_count": null,
   "metadata": {},
   "outputs": [],
   "source": [
    "### GRADED\n",
    "\n",
    "### YOUR SOLUTION HERE\n",
    "season_medal = df.groupby([\"Season\", \"Medal\"])\n",
    "season_medal.first()\n",
    "ans13 = 'b'\n",
    "### END SOLUTION"
   ]
  },
  {
   "cell_type": "markdown",
   "metadata": {},
   "source": [
    "Question 14\n",
    "15 points\n",
    "\n",
    "Perform the following aggregation operations on df:\n",
    "\n",
    "compute the max and the min on the column Age.\n",
    "Compute the mean on the column Weight.\n",
    "compute the max, min and mean on the column Height.\n",
    "Assign the new dataframe to df_aggr"
   ]
  },
  {
   "cell_type": "code",
   "execution_count": null,
   "metadata": {},
   "outputs": [],
   "source": [
    "## GRADED\n",
    "\n",
    "### YOUR SOLUTION HERE\n",
    "df_aggr = df.aggregate({ \"Age\":['max', 'min'], \n",
    "              \"Weight\":['mean'],  \n",
    "              \"Height\":['max', 'min', 'mean']}) \n",
    "### END SOLUTION"
   ]
  }
 ],
 "metadata": {
  "kernelspec": {
   "display_name": "Python 3",
   "language": "python",
   "name": "python3"
  },
  "language_info": {
   "codemirror_mode": {
    "name": "ipython",
    "version": 3
   },
   "file_extension": ".py",
   "mimetype": "text/x-python",
   "name": "python",
   "nbconvert_exporter": "python",
   "pygments_lexer": "ipython3",
   "version": "3.8.5"
  }
 },
 "nbformat": 4,
 "nbformat_minor": 4
}
