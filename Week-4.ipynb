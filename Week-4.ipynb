{
 "cells": [
  {
   "cell_type": "markdown",
   "metadata": {},
   "source": [
    "Popular Data Science Packages in Python\n",
    "Author: Jessica Cervi\n",
    "\n",
    "Expected time = 1.5 hrs\n",
    "\n",
    "Total points = 90 points\n",
    "\n",
    "Assignment Overview\n",
    "In this assignment you will work with the material you learned in Module 4, packages scripts, such as the Numpy and pandas libraries. You will learn how to import packages and how to use their functions. You will also test your knowledge on 1D and 2D NumPy arrays. In the second half of the assignment, you will be asked to work with DataFrames. You will be asked to create DataFrames and to select dataseries. Finally, you will be asked to filter the data in a DataFrame and compute basic statistic on its entries.\n",
    "\n",
    "This assignment is designed to build your familiarity and comfort coding in Python while also helping you review key topics from each module. As you progress through the assignment, answers will get increasingly complex. It is important that you adopt a data scientist's mindset when completing this assignment. Remember to run your code from each cell before submitting your assignment. Running your code beforehand will notify you of errors and give you a chance to fix them before submitting. You should view your Vocareum submission as if you are delivering a final project to your manager or client.\n",
    "\n",
    "Vocareum Tips\n",
    "\n",
    "Do not add arguments or options to functions unless you are specifically asked to. This will cause an error in Vocareum.\n",
    "Do not use a library unless you are expicitly asked to in the question.\n",
    "Learning Objectives\n",
    "Import and use packages in Python and Jupyter Notebooks.\n",
    "Distinguish between NumPy arrays and lists.\n",
    "Use NumPy functions for basic statistical analyses.\n",
    "Practice filtering and slicing DataFrames with pandas."
   ]
  },
  {
   "cell_type": "markdown",
   "metadata": {},
   "source": [
    "Popular Data Science Packages in Python\n",
    "In this assignment, we will be testing your knowledge of the topics covered in Module 4, such as importing packages, Numpy arrays, pandas DataFrames. Finally, we will test your knowledge about subsetting anf filtering DataFrames and about applying Numpy statistical functions to a Dataframe.\n",
    "\n",
    "Importing packages and functions, aliasing\n",
    "We will begin this assignment with a review of the NumPy and pandas libraries. As you have learned, NumPy is a library for the Python programming language, adding support for large, multi-dimensional arrays and matrices and pandas is a software library written for the Python programming language for data manipulation and analysis. We will start with some basic questions about aliasing a package and importing functions."
   ]
  },
  {
   "cell_type": "markdown",
   "metadata": {},
   "source": [
    "Question 1\n",
    "5 points\n",
    "\n",
    "What is the correct syntax to use if you want to alias the library Numpy using np in your code?\n",
    "\n",
    "- a) use numpy like np\n",
    "- b) import numpy as np\n",
    "- c) from numpy import np\n",
    "- d) use np like numpy\n",
    "\n",
    "Assign the character associated with your answer as a string to ans1. For, example if you believe a is the correct answer, submit yur answer as ans1 = a."
   ]
  },
  {
   "cell_type": "code",
   "execution_count": null,
   "metadata": {},
   "outputs": [],
   "source": [
    "### GRADED\n",
    "### YOUR SOLUTION HERE\n",
    "ans1 = 'b'\n",
    "### END SOLUTION"
   ]
  },
  {
   "cell_type": "markdown",
   "metadata": {},
   "source": [
    "Question 2\n",
    "5 points\n",
    "\n",
    "What is the correct syntax to use if you want to alias the library pandas using pd in your code?\n",
    "\n",
    "- a) import Pandas as pd \n",
    "- b) use pandas a pd\n",
    "- c) import pandas as pd\n",
    "- d) from pandas use pd\n",
    "\n",
    "Assign the character associated with your answer as a string to ans2. For, example if you believe a is the correct answer, submit yur answer as ans2 = a."
   ]
  },
  {
   "cell_type": "code",
   "execution_count": null,
   "metadata": {},
   "outputs": [],
   "source": [
    "### GRADED\n",
    "### YOUR SOLUTION HERE\n",
    "ans2 = 'c'\n",
    "### END SOLUTION"
   ]
  },
  {
   "cell_type": "markdown",
   "metadata": {},
   "source": [
    "Question 3\n",
    "* 5 points\n",
    "\n",
    "What is the correct syntax to use if you want to import just the function .square() from NumPy?\n",
    "\n",
    "- a) from numpy import .square()\n",
    "- b) from numpy get square\n",
    "- c) use square from numpy\n",
    "- d) from numpy import square\n",
    "\n",
    "Assign the character associated with your answer as a string to ans3."
   ]
  },
  {
   "cell_type": "code",
   "execution_count": null,
   "metadata": {},
   "outputs": [],
   "source": [
    "### GRADED\n",
    "### YOUR SOLUTION HERE\n",
    "ans3 = 'd'\n",
    "### END SOLUTION"
   ]
  },
  {
   "cell_type": "markdown",
   "metadata": {},
   "source": [
    "The NumPy library\n",
    "NumPy is a Python package that stands for Numeric Python. The most useful tool in this package is a new data type called an array. Numpy also comes with sophisticated functions and linear algebra and random number capabilities. In the next questions, we will learn how to create numpy arrays, how to perform basic operations on them, and how to slice them.\n",
    "\n",
    "You can find more information about the NumPy package here.\n",
    "\n",
    "Note: Questions 4, 5, 6, and 7 are connected and must to be answered in sequence."
   ]
  },
  {
   "cell_type": "markdown",
   "metadata": {},
   "source": [
    "Question 4\n",
    "* 5 points\n",
    "\n",
    "Given distance=[2000,4000,6000,7000,1000], use np.array() to create a numpy array from distance. Name this array np_distance."
   ]
  },
  {
   "cell_type": "code",
   "execution_count": null,
   "metadata": {},
   "outputs": [],
   "source": [
    "#impoting numpy and pandas\n",
    "import numpy as np\n",
    "import pandas as pd"
   ]
  },
  {
   "cell_type": "code",
   "execution_count": null,
   "metadata": {},
   "outputs": [],
   "source": [
    "### GRADED\n",
    "distance=[2000,4000,6000,7000,1000]\n",
    "\n",
    "### YOUR SOLUTION HERE\n",
    "np_distance = np.array(distance)\n",
    "### END SOLUTION"
   ]
  },
  {
   "cell_type": "markdown",
   "metadata": {},
   "source": [
    "Question 5\n",
    "* 5 points\n",
    "\n",
    "Divide np_distance by 1000 to obtain the distance in kilometers. Name this array np_distance_km."
   ]
  },
  {
   "cell_type": "code",
   "execution_count": null,
   "metadata": {},
   "outputs": [],
   "source": [
    "### GRADED\n",
    "### YOUR SOLUTION HERE\n",
    "np_distance_km = np_distance/1000\n",
    "### END SOLUTION"
   ]
  },
  {
   "cell_type": "markdown",
   "metadata": {},
   "source": [
    "Question 6\n",
    "* 5 points\n",
    "\n",
    "Given time=[0.5, 1,1.3,1.5,2], use np.array() to create a numpy array from time. Name this array np_time. Next, divide np_distance_km by np_time. Name this array np_velocity."
   ]
  },
  {
   "cell_type": "code",
   "execution_count": null,
   "metadata": {},
   "outputs": [],
   "source": [
    "### GRADED\n",
    "time=[0.5, 1,1.3,1.5,2]\n",
    "\n",
    "### YOUR SOLUTION HERE\n",
    "np_time = np.array(time)\n",
    "np_velocity = np_distance_km/np_time\n",
    "### END SOLUTION"
   ]
  },
  {
   "cell_type": "markdown",
   "metadata": {},
   "source": [
    "Question 7\n",
    "* 5 points\n",
    "\n",
    "Because we got some new new information about ora data, change the second last element of np_velocity to 1.8. Name this array np_velocity_fixed."
   ]
  },
  {
   "cell_type": "code",
   "execution_count": null,
   "metadata": {},
   "outputs": [],
   "source": [
    "### GRADED\n",
    "### YOUR SOLUTION HERE\n",
    "np_velocity[-2] = 1.8\n",
    "np_velocity_fixed = np_velocity\n",
    "### END SOLUTION"
   ]
  },
  {
   "cell_type": "markdown",
   "metadata": {},
   "source": [
    "Question 8\n",
    "* 5 points\n",
    "\n",
    "body_measurement, defined below, contains 4 body measurements of four students. Each of these elements is a list containing the height and the weight of 4 students. Given body_measurement defined below, use np.array() to create a 2D NumPy array from body_measurement. Name it np_body_measurement."
   ]
  },
  {
   "cell_type": "code",
   "execution_count": null,
   "metadata": {},
   "outputs": [],
   "source": [
    "### GRADED\n",
    "body_measurement = [[168, 55.4],\n",
    "            [155, 47.7],\n",
    "            [175, 69.5],\n",
    "            [189, 90.2]]\n",
    "\n",
    "### YOUR SOLUTION HERE\n",
    "np_body_measurement = np.array(body_measurement)\n",
    "### END SOLUTION"
   ]
  },
  {
   "cell_type": "markdown",
   "metadata": {},
   "source": [
    "Question 9\n",
    "* 5 points\n",
    "\n",
    "Use the numpy function shape to get the shape of np_body_measurement. Assign the shape to the variable ans9."
   ]
  },
  {
   "cell_type": "code",
   "execution_count": null,
   "metadata": {},
   "outputs": [],
   "source": [
    "### GRADED\n",
    "### YOUR SOLUTION HERE\n",
    "ans9 = np_body_measurement.shape\n",
    "### END SOLUTION"
   ]
  },
  {
   "cell_type": "markdown",
   "metadata": {},
   "source": [
    "Question 10\n",
    "* 5 points\n",
    "\n",
    "Select the body measurments of the second student in np_body_measurement and assign it to second_student."
   ]
  },
  {
   "cell_type": "code",
   "execution_count": null,
   "metadata": {},
   "outputs": [],
   "source": [
    "### GRADED\n",
    "### YOUR SOLUTION HERE\n",
    "second_student = np_body_measurement[1,:]\n",
    "### END SOLUTION"
   ]
  },
  {
   "cell_type": "markdown",
   "metadata": {},
   "source": [
    "Question 11\n",
    "* 5 points\n",
    "\n",
    "Select the weight of the third student in np_body_measurement and assign it to weight_third_student."
   ]
  },
  {
   "cell_type": "code",
   "execution_count": null,
   "metadata": {},
   "outputs": [],
   "source": [
    "### GRADED\n",
    "### YOUR SOLUTION HERE\n",
    "weight_third_student = np_body_measurement[2,1]\n",
    "### END SOLUTION"
   ]
  },
  {
   "cell_type": "markdown",
   "metadata": {},
   "source": [
    "Getting started with Pandas and Numpy statistical tools\n",
    "Pandas is a very powerful Python library designed to analize and manipulate data. A very important data type that pandas allow to create are pandas DataFrame. A DataFrame is a data structure that allows you to store different data types in rows and columns. In the next questions, we will learn how to create, subset, and slice DataFrames. Finally, you will be asked to perform some basic statistic on pandas DataFrame using NumPy tools.\n",
    "\n",
    "You can find more information about the Pandas package here.\n",
    "\n",
    "Note: Questions 14,15 and 16 are connected and must be answered in sequence."
   ]
  },
  {
   "cell_type": "markdown",
   "metadata": {},
   "source": [
    "Question 12\n",
    "* 5 points\n",
    "\n",
    "Convert museum, given below, to a pandas DataFrame. Name the dataframe df_museum"
   ]
  },
  {
   "cell_type": "code",
   "execution_count": null,
   "metadata": {},
   "outputs": [],
   "source": [
    "### GRADED\n",
    "museum = {\n",
    "    'museum':['Louvre','Hermitage','National Gallery','Metropolitan'],\n",
    "    'Picasso':[True,False,True,False]\n",
    "}\n",
    "\n",
    "### YOUR SOLUTION HERE\n",
    "df_museum= pd.DataFrame(museum)\n",
    "### END SOLUTION"
   ]
  },
  {
   "cell_type": "markdown",
   "metadata": {},
   "source": [
    "Question 13\n",
    "* 5 points\n",
    "\n",
    "Assume that a database is saved as students.csv. What is the correct syntax to use in pandas to load the database into a pandas DataFrame called df_students?\n",
    "\n",
    "- a) df_students = pd.read_csv(\"students.csv\")\n",
    "- b) df_students = pd.DataFrame(\"students.csv\")\n",
    "- c) df_students = pd.csv_to_df(\"students.csv\")\n",
    "- d) df_students= pd.to_df(\"students.csv\")\n",
    "\n",
    "Assign the character associated with your answer as a string to ans13."
   ]
  },
  {
   "cell_type": "code",
   "execution_count": null,
   "metadata": {},
   "outputs": [],
   "source": [
    "### GRADED\n",
    "### YOUR SOLUTION HERE\n",
    "ans13 = 'a'\n",
    "### END SOLUTION"
   ]
  },
  {
   "cell_type": "markdown",
   "metadata": {},
   "source": [
    "Question 14\n",
    "* 10 points\n",
    "\n",
    "For this question, we will use an open source database that collects some health information about patients. Information about the dataset can be found here.\n",
    "\n",
    "Read the CSV file named \"patients.csv\" in the data/ folder and assign it to a dataframe called df_patients. Next, extract the columns gender, age, and BMI in the specified order and assign them to a new DataFrame called df_patients_main."
   ]
  },
  {
   "cell_type": "code",
   "execution_count": null,
   "metadata": {},
   "outputs": [],
   "source": [
    "### GRADED\n",
    "### YOUR SOLUTION HERE\n",
    "df_patients = pd.read_csv(\"data/patients.csv\")\n",
    "df_patients_main = df_patients[[\"gender\", \"age\", \"BMI\"]]\n",
    "### END SOLUTION"
   ]
  },
  {
   "cell_type": "markdown",
   "metadata": {},
   "source": [
    "Question 15\n",
    "* 10 points\n",
    "\n",
    "Take the dataframe df_patients_main and create a filter to get all rows where the column age is less or equal than 30. Call this new dataframe df_patients_u30."
   ]
  },
  {
   "cell_type": "code",
   "execution_count": null,
   "metadata": {},
   "outputs": [],
   "source": [
    "## GRADED\n",
    "### YOUR SOLUTION HERE\n",
    "df_patients_u30 = df_patients_main[df_patients_main[\"age\"] <= 30]\n",
    "### END SOLUTION"
   ]
  },
  {
   "cell_type": "markdown",
   "metadata": {},
   "source": [
    "Question 16\n",
    "* 5 points\n",
    "\n",
    "Compute the average of the column BMI from the DataFrame df_patients and assign the value to the variable average_bmi."
   ]
  },
  {
   "cell_type": "code",
   "execution_count": null,
   "metadata": {},
   "outputs": [],
   "source": [
    "### GRADED\n",
    "### YOUR SOLUTION HERE\n",
    "average_bmi = df_patients[\"BMI\"].mean()\n",
    "### END SOLUTION"
   ]
  }
 ],
 "metadata": {
  "kernelspec": {
   "display_name": "Python 3",
   "language": "python",
   "name": "python3"
  },
  "language_info": {
   "codemirror_mode": {
    "name": "ipython",
    "version": 3
   },
   "file_extension": ".py",
   "mimetype": "text/x-python",
   "name": "python",
   "nbconvert_exporter": "python",
   "pygments_lexer": "ipython3",
   "version": "3.8.5"
  }
 },
 "nbformat": 4,
 "nbformat_minor": 4
}
