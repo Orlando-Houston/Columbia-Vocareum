{
 "cells": [
  {
   "cell_type": "markdown",
   "metadata": {},
   "source": [
    "Advanced functions\n",
    "In the first part of this assignment, we will be reviewing the basics of functions and the way we create them in Python.\n",
    "\n",
    "Basic functions review\n",
    "We will begin this assignment with a review of how to write functions to refresh your memory of the basics. Every function definition in Python starts with the keyword def followed by the name of the function. The name of the function is followed by parentheses that are suppose to include arguments, if there are any.\n",
    "\n",
    "The header of the function is followed by the body of the function. This is meant to be an indented block of code containing the instructions that the function is supposed to perform.\n",
    "\n",
    "Sometime a function ends with a return statement. A return statement is used to end the execution of the function call and 'returns' the result (value of the expression following the return keyword) to the caller.\n",
    "\n",
    "The pseudocode below displays the general structure of a function.\n",
    "\n",
    "def name_of_function(args):\n",
    "    body of the function\n",
    "    return var\n",
    "Before starting the assignment, we will provide you with an example function to practice with.\n",
    "\n",
    "Example 1\n",
    "Define a function called div_by_five that takes a number x as input. Your function should check whether x is divisible by five and, if so, return x cubed. Otherwise, your function should return the string Number not divisible by five.\n",
    "\n",
    "Solution\n",
    "Observe the code cell below, where we have defined the function according to the instructions given above:"
   ]
  },
  {
   "cell_type": "code",
   "execution_count": null,
   "metadata": {},
   "outputs": [],
   "source": [
    "def div_by_five(x):\n",
    "    if (x%5 ==0):\n",
    "        return x**3\n",
    "    else:\n",
    "        return 'Number not divisible by five'"
   ]
  },
  {
   "cell_type": "markdown",
   "metadata": {},
   "source": [
    "In the function header, we have defined the function name div_by_five and listed the arguments that our function takes. Next, we checked, using an if statement, whether x is divisible by five or not. If yes, the function returns the cube of x, otherwise we use else to return the string Number not divisible by five.\n",
    "\n",
    "IMPORTANT NOTE: In some questions, we will ask you to assign the result of a certain operation to a variable and then return that variable. Make sure to read the instructions for each question carefully.\n",
    "\n",
    "Before starting the assignment, feel free to change the argument passed to div_by_five in the code cell below to see the function in action."
   ]
  },
  {
   "cell_type": "code",
   "execution_count": null,
   "metadata": {},
   "outputs": [],
   "source": [
    "div_by_five(7)"
   ]
  },
  {
   "cell_type": "markdown",
   "metadata": {},
   "source": [
    "Question 1\n",
    "* 5 points\n",
    "\n",
    "Define a function called square_cond that takes takes the variable x as input, which should be a number. Your function should check whether x is even and, if so, returns x squared. Otherwise, your function should return the string \"Odd number\"."
   ]
  },
  {
   "cell_type": "code",
   "execution_count": null,
   "metadata": {},
   "outputs": [],
   "source": [
    "### GRADED\n",
    "\n",
    "### YOUR SOLUTION HERE\n",
    "def square_cond(x):\n",
    "    if x % 2 == 0:\n",
    "        return x*x\n",
    "    else:\n",
    "        return \"Odd number\"\n",
    "### END SOLUTION"
   ]
  },
  {
   "cell_type": "markdown",
   "metadata": {},
   "source": [
    "Question 2\n",
    "* 15 points\n",
    "\n",
    "Functions can also accept multiple arguments and return multiple variables at once by separating them with a comma.\n",
    "\n",
    "Create a Python function called multi_operation that takes, as input, two floats, a and b.\n",
    "\n",
    "Your function should compute the product of a and b and assign the result to multi. Next, your function should compute the integer division between a and b and assign the result to div. The function should return both the multi and the div variables.\n",
    "\n",
    "Hint: The integer division is perfomed by the // operator."
   ]
  },
  {
   "cell_type": "code",
   "execution_count": null,
   "metadata": {},
   "outputs": [],
   "source": [
    "### GRADED\n",
    "\n",
    "def multi_operation(a,b):\n",
    "    multi = a*b\n",
    "    div = a//b\n",
    "    return multi,div\n",
    "### END SOLUTION"
   ]
  },
  {
   "cell_type": "markdown",
   "metadata": {},
   "source": [
    "Local vs Global scope\n",
    "In this section you will test your knowledge about the different scopes in Python. Remember,\n",
    "\n",
    "Variables have global scope in the main body of the script\n",
    "Variables defined within a function have local scope by default\n",
    "We can define global variables within a function by using the keywird global\n",
    "Observe the code below:\n",
    "\n",
    "a = \"Data science is awesome!\"\n",
    "\n",
    "def my_fun(x)\n",
    "    global result\n",
    "    result = x**3\n",
    "    result_squared = result**2\n",
    "In the code above, the variable a is defined in the main body. Therefore a can be used everywhere in my code.\n",
    "\n",
    "In the function my_fun, we have defined the variable result to be global. This means that, after calling the function, we can access the value of result from the main body of my code without returning the variable with the function. On the other hand, result_squared is defined locally inside the function, therefore I can only use that variable within my_fun."
   ]
  },
  {
   "cell_type": "markdown",
   "metadata": {},
   "source": [
    "Question 3\n",
    "* 10 points\n",
    "\n",
    "Remember that variables that are defined inside a function body have a local scope, and those defined outside have a global scope. However, you can make variables inside a function global by declaring them using the global keyword.\n",
    "\n",
    "Define a function called global_sum that takes two integers a and b. Inside the function, create a global variable number to store the result. Assign to number the result of the sum between a and b.\n",
    "\n",
    "NOTE: Because number is defined globally, we can access its values without a return statement."
   ]
  },
  {
   "cell_type": "code",
   "execution_count": null,
   "metadata": {},
   "outputs": [],
   "source": [
    "### GRADED\n",
    "\n",
    "def global_sum(a,b):\n",
    "    global number\n",
    "    number = a+b\n",
    "### END SOLUTION"
   ]
  },
  {
   "cell_type": "code",
   "execution_count": null,
   "metadata": {},
   "outputs": [],
   "source": []
  },
  {
   "cell_type": "code",
   "execution_count": null,
   "metadata": {},
   "outputs": [],
   "source": []
  },
  {
   "cell_type": "code",
   "execution_count": null,
   "metadata": {},
   "outputs": [],
   "source": []
  }
 ],
 "metadata": {
  "kernelspec": {
   "display_name": "Python 3",
   "language": "python",
   "name": "python3"
  },
  "language_info": {
   "codemirror_mode": {
    "name": "ipython",
    "version": 3
   },
   "file_extension": ".py",
   "mimetype": "text/x-python",
   "name": "python",
   "nbconvert_exporter": "python",
   "pygments_lexer": "ipython3",
   "version": "3.8.5"
  }
 },
 "nbformat": 4,
 "nbformat_minor": 4
}
